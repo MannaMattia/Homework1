{
 "cells": [
  {
   "cell_type": "markdown",
   "id": "950acdc3-51af-44b2-b8dd-19f9ba2dffec",
   "metadata": {},
   "source": [
    "# Introduction"
   ]
  },
  {
   "cell_type": "markdown",
   "id": "de9523d7-fe16-4e37-a639-06827fa90e67",
   "metadata": {},
   "source": [
    "## Say \"Hello, World!\" With Python"
   ]
  },
  {
   "cell_type": "code",
   "execution_count": null,
   "id": "73e159cd-83a4-4734-bfe2-6cd0cdc0b094",
   "metadata": {},
   "outputs": [],
   "source": [
    "if __name__ == '__main__':\n",
    "    print(\"Hello, World!\")"
   ]
  },
  {
   "cell_type": "markdown",
   "id": "57a1cd01-5ff2-4830-9bee-66b5e572ad73",
   "metadata": {},
   "source": [
    "## Python If-Else"
   ]
  },
  {
   "cell_type": "code",
   "execution_count": null,
   "id": "362134c5-bbe3-4023-a6ea-44db50357181",
   "metadata": {
    "tags": []
   },
   "outputs": [],
   "source": [
    "import math\n",
    "import os\n",
    "import random\n",
    "import re\n",
    "import sys\n",
    "\n",
    "\n",
    "\n",
    "if __name__ == '__main__':\n",
    "    n = int(input().strip())\n",
    "    \n",
    "    if n  % 2 != 0:\n",
    "        print(\"Weird\")\n",
    "    elif  n >= 2 and n <= 5 and n  % 2 == 0 :\n",
    "        print(\"Not Weird\")\n",
    "    \n",
    "    elif  n >= 6 and n <= 20 and  (n  % 2) == 0 :\n",
    "        print(\"Weird\")\n",
    "    \n",
    "    elif n > 20:\n",
    "        print(\"Not Weird\")\n",
    "    \n",
    "    \n"
   ]
  },
  {
   "cell_type": "markdown",
   "id": "a1056d2d-b21d-4cb5-ba2c-738605441888",
   "metadata": {},
   "source": [
    "## Arithmetic Operators"
   ]
  },
  {
   "cell_type": "code",
   "execution_count": null,
   "id": "2db6d8ab-e749-484f-aa4a-08c6512588f2",
   "metadata": {},
   "outputs": [],
   "source": [
    "if __name__ == '__main__':\n",
    "    a = int(input())\n",
    "    b = int(input())\n",
    "    print(a+b)\n",
    "    print(a-b)\n",
    "    print(a*b)"
   ]
  },
  {
   "cell_type": "markdown",
   "id": "25219ac7-4e3e-4a29-bdd0-19b5c44aba42",
   "metadata": {},
   "source": [
    "## Python: Division"
   ]
  },
  {
   "cell_type": "code",
   "execution_count": null,
   "id": "cd5b17b5-d805-46d7-a6c7-fc96335807b2",
   "metadata": {},
   "outputs": [],
   "source": [
    "if __name__ == '__main__':\n",
    "    a = int(input())\n",
    "    b = int(input())\n",
    "    print(a//b)\n",
    "    print(a/b)"
   ]
  },
  {
   "cell_type": "markdown",
   "id": "0c05bfda-0404-4506-afd1-93e7c2f2af8c",
   "metadata": {},
   "source": [
    "## Loops"
   ]
  },
  {
   "cell_type": "code",
   "execution_count": null,
   "id": "fa8c92e9-26cf-4d20-b19a-5680f8d99eda",
   "metadata": {},
   "outputs": [],
   "source": [
    "if __name__ == '__main__':\n",
    "    n = int(input())\n",
    "    for i in range(0,n):\n",
    "        print(i**2)"
   ]
  },
  {
   "cell_type": "markdown",
   "id": "815f5442-da9a-4250-8f17-40454c5cd7d4",
   "metadata": {},
   "source": [
    "## Write a function"
   ]
  },
  {
   "cell_type": "code",
   "execution_count": null,
   "id": "f3ab8b7b-b66e-490c-8faa-589b3ef5a584",
   "metadata": {},
   "outputs": [],
   "source": [
    "def is_leap(year):\n",
    "    \n",
    "    if year % 4 == 0 :\n",
    "        if year % 100 == 0:\n",
    "            if year % 400== 0 :\n",
    "                return True \n",
    "            else:\n",
    "                return False\n",
    "        return True\n",
    "    else:\n",
    "        return False\n",
    "            \n",
    "year = int(input())"
   ]
  },
  {
   "cell_type": "markdown",
   "id": "1b0e25d5-5efe-47c6-8bf8-52f1e8391a36",
   "metadata": {},
   "source": [
    "## Print Function"
   ]
  },
  {
   "cell_type": "code",
   "execution_count": null,
   "id": "c2d7ec9a-ae6d-4c32-b8d4-f39c3afb020b",
   "metadata": {},
   "outputs": [],
   "source": [
    "if __name__ == '__main__':\n",
    "    n = int(input())\n",
    "    for i in range(1,n+1):\n",
    "        print(i,end=\"\")"
   ]
  },
  {
   "cell_type": "markdown",
   "id": "5a2fdd38-bfe6-4198-a242-377bc66d3e9e",
   "metadata": {},
   "source": [
    "# Basic Data Types"
   ]
  },
  {
   "cell_type": "markdown",
   "id": "f22b4437-6065-4dd5-a392-5295712c122f",
   "metadata": {},
   "source": [
    "## Find the Runner-Up Score!"
   ]
  },
  {
   "cell_type": "code",
   "execution_count": null,
   "id": "202500b4-bad2-41fb-93a7-db641b29a312",
   "metadata": {
    "tags": []
   },
   "outputs": [],
   "source": [
    "if __name__ == '__main__':\n",
    "    n = int(input())\n",
    "    arr = map(int, input().split())\n",
    "\n",
    "    score=list(arr)\n",
    "    score.sort()\n",
    "    score.reverse()\n",
    "    \n",
    "    for i in range(0,len(score)-1):\n",
    "        if score[i] != score[i+1]:\n",
    "            print(score[i+1])\n",
    "            break"
   ]
  },
  {
   "cell_type": "markdown",
   "id": "027c8bcb-6430-4f44-ab0c-519e07442ffe",
   "metadata": {},
   "source": [
    "## Nested Lists"
   ]
  },
  {
   "cell_type": "code",
   "execution_count": null,
   "id": "bd95c14b-c74c-4a98-874e-340569409dd1",
   "metadata": {
    "tags": []
   },
   "outputs": [],
   "source": [
    "if __name__ == '__main__':\n",
    "    lista=[]\n",
    "    lista_numeri=[]\n",
    "    for _ in range(int(input())):\n",
    "        listino=[]\n",
    "        name = input()\n",
    "        score = float(input())\n",
    "        \n",
    "    \n",
    "        listino.append(name)\n",
    "        listino.append(score)\n",
    "        lista.append(listino)\n",
    "        lista_numeri.append(score)\n",
    "        \n",
    "    lista_numeri.sort()\n",
    "\n",
    "    elemento=lista_numeri[0]\n",
    "    second_lower=None\n",
    "    for i in range(0,len(lista_numeri)-1):\n",
    "        if lista_numeri[i] != lista_numeri[i+1]:\n",
    "            second_lower=lista_numeri[i+1]\n",
    "            break\n",
    "        \n",
    "        \n",
    "    ordine=[]\n",
    "    for i in range(0,len(lista)):\n",
    "        if second_lower in lista[i]:\n",
    "            ordine.append(lista[i][0])\n",
    "    ordine.sort()\n",
    "    \n",
    "    for i in range(0,len(ordine)):\n",
    "        print(ordine[i])"
   ]
  },
  {
   "cell_type": "markdown",
   "id": "c41e3387-a0f6-41cb-936b-6c29066ebe4e",
   "metadata": {},
   "source": [
    "## Finding the percentage"
   ]
  },
  {
   "cell_type": "code",
   "execution_count": null,
   "id": "604699e0-df81-44a9-8a87-fbb0aeed0e28",
   "metadata": {
    "tags": []
   },
   "outputs": [],
   "source": [
    "if __name__ == '__main__':\n",
    "    n = int(input())\n",
    "    student_marks = {}\n",
    "    for _ in range(n):\n",
    "        name, *line = input().split()\n",
    "        scores = list(map(float, line))\n",
    "        student_marks[name] = scores\n",
    "    query_name = input()\n",
    "    \n",
    "    voti=student_marks[query_name]\n",
    "    somma=0\n",
    "    for i in range(0,len(voti)):\n",
    "        somma += voti[i]\n",
    "    n=len(voti)\n",
    "    media=somma/n\n",
    "    media=round(media,2)\n",
    "  \n",
    "    print(\"%.2f\" % media)"
   ]
  },
  {
   "cell_type": "markdown",
   "id": "1b4f07f2-05c7-42a7-920b-77661323ef0b",
   "metadata": {},
   "source": [
    "## Lists"
   ]
  },
  {
   "cell_type": "code",
   "execution_count": null,
   "id": "c8168621-1d2b-48bb-ba08-0fc55deb41b3",
   "metadata": {
    "tags": []
   },
   "outputs": [],
   "source": [
    "if __name__ == '__main__':\n",
    "    import re\n",
    "    N = int(input())\n",
    "    \n",
    "    lista=[]\n",
    "    for i in range(0,N):\n",
    "        \n",
    "        a=str(input())\n",
    "        #Estrazione comando\n",
    "        pattern=re.compile(r\"[\\w]{1,}\")\n",
    "        comando=pattern.search(a)[0].strip().lower()\n",
    "       \n",
    "        #Estrazione numeri\n",
    "        numeri=re.findall(r\"[\\d]+\",a)\n",
    " \n",
    "        if comando ==\"insert\" :\n",
    "            lista.insert(int(numeri[0]),int(numeri[1]))\n",
    "        \n",
    "        elif comando==\"remove\":\n",
    "            lista.remove(int(numeri[0]))\n",
    "\n",
    "        elif comando==\"append\":\n",
    "            lista.append(int(numeri[0]))\n",
    "        elif comando==\"sort\":\n",
    "            lista.sort()\n",
    "        elif comando==\"pop\":\n",
    "            lista.pop()\n",
    "        elif comando==\"reverse\":\n",
    "            lista.reverse()\n",
    "            \n",
    "        elif comando ==\"print\":\n",
    "            print(lista)"
   ]
  },
  {
   "cell_type": "markdown",
   "id": "77690394-22e5-40f6-bfda-3f11aa6d2edd",
   "metadata": {},
   "source": [
    "## Tuples"
   ]
  },
  {
   "cell_type": "code",
   "execution_count": null,
   "id": "337095f6-805a-41f3-b5f0-e504805a8da4",
   "metadata": {},
   "outputs": [],
   "source": [
    "if __name__ == '__main__':\n",
    "    n = int(input())\n",
    "    integer_list = map(int, input().split())\n",
    "    tupla=tuple(list(integer_list))\n",
    "    print(hash(tupla))"
   ]
  },
  {
   "cell_type": "markdown",
   "id": "4138c99d-026f-4ed8-9599-3e7ede5c7d93",
   "metadata": {},
   "source": [
    "## List Comprehensions"
   ]
  },
  {
   "cell_type": "code",
   "execution_count": null,
   "id": "9539694a-333d-470b-aaec-040b8e4ee3a0",
   "metadata": {},
   "outputs": [],
   "source": [
    "if __name__ == '__main__':\n",
    "    x = int(input())\n",
    "    y = int(input())\n",
    "    z = int(input())\n",
    "    n = int(input())\n",
    "    \n",
    "    lista=[[xx,yy,zz] for xx in range(0,x+1) for yy in range(0,y+1) for zz in range(0,z+1) if xx+yy+zz != n]\n",
    "    lista.sort()\n",
    "    print(lista)"
   ]
  },
  {
   "cell_type": "markdown",
   "id": "df84e467-cc1d-4497-b346-2f81e01877ba",
   "metadata": {},
   "source": [
    "# Strings"
   ]
  },
  {
   "cell_type": "markdown",
   "id": "6da6ce50-24d0-4158-8eeb-1585c0a17283",
   "metadata": {},
   "source": [
    "## sWAP cASE"
   ]
  },
  {
   "cell_type": "code",
   "execution_count": null,
   "id": "94a2c128-c0ff-409e-b402-b5a3f189c722",
   "metadata": {},
   "outputs": [],
   "source": [
    "def swap_case(s):\n",
    "    a=s.swapcase()\n",
    "    return a\n",
    "\n",
    "if __name__ == '__main__':\n",
    "    s = input()\n",
    "    result = swap_case(s)\n",
    "    print(result)"
   ]
  },
  {
   "cell_type": "markdown",
   "id": "628b0792-f752-4a3e-a1b4-78be650bf1df",
   "metadata": {},
   "source": [
    "## String Split and Join"
   ]
  },
  {
   "cell_type": "code",
   "execution_count": null,
   "id": "21754ad1-011c-4b67-af74-2c45bdc9f20a",
   "metadata": {},
   "outputs": [],
   "source": [
    "def split_and_join(line):\n",
    "    lista=line.split(\" \")\n",
    "    stringa=\"-\".join(lista)\n",
    "    \n",
    "    \n",
    "    # write your code here\n",
    "    return stringa\n",
    "\n",
    "\n",
    "if __name__ == '__main__':\n",
    "    line = input()\n",
    "    result = split_and_join(line)\n",
    "    print(result)"
   ]
  },
  {
   "cell_type": "markdown",
   "id": "d4fdc34d-4e81-4970-9c3c-4e796135ca65",
   "metadata": {},
   "source": [
    "## What's Your Name?"
   ]
  },
  {
   "cell_type": "code",
   "execution_count": null,
   "id": "ea51f2f9-c0a4-4c16-ac9f-1ec4a2efc77f",
   "metadata": {},
   "outputs": [],
   "source": [
    "def print_full_name(first, last):\n",
    "    print(\"Hello \"+str(first)+\" \"+str(last)+\"! You just delved into python.\")\n",
    "    # Write your code here\n",
    "\n",
    "\n",
    "if __name__ == '__main__':\n",
    "    first_name = input()\n",
    "    last_name = input()\n",
    "    print_full_name(first_name, last_name)"
   ]
  },
  {
   "cell_type": "markdown",
   "id": "e68c3b9d-bda3-429d-850e-3a967735189a",
   "metadata": {},
   "source": [
    "## Mutations"
   ]
  },
  {
   "cell_type": "code",
   "execution_count": null,
   "id": "69b07bba-cfa2-45e0-9582-e137d8f3ccf7",
   "metadata": {},
   "outputs": [],
   "source": [
    "def mutate_string(string, position, character):\n",
    "    stringa=\"\"\n",
    "    for i in range(0,len(string)):\n",
    "        if i == position:\n",
    "            stringa=stringa + character\n",
    "        else:\n",
    "            stringa=stringa + string[i]\n",
    "    \n",
    "    return stringa\n",
    "\n",
    "\n",
    "\n",
    "if __name__ == '__main__':\n",
    "    s = input()\n",
    "    i, c = input().split()\n",
    "    s_new = mutate_string(s, int(i), c)\n",
    "    print(s_new)"
   ]
  },
  {
   "cell_type": "markdown",
   "id": "1fc4042c-9cd3-468b-b8cf-5113f2c8c113",
   "metadata": {},
   "source": [
    "## Find a string"
   ]
  },
  {
   "cell_type": "code",
   "execution_count": null,
   "id": "a71a2d80-013e-41bd-a084-5be1d4015195",
   "metadata": {},
   "outputs": [],
   "source": [
    "import re\n",
    "def count_substring(string, sub_string):\n",
    "    l=len(sub_string)\n",
    "    contatore=0\n",
    "    for i in range(0,len(string)):\n",
    "        if string[i:(l+i)] == sub_string:\n",
    "            contatore += 1\n",
    "        \n",
    "    \n",
    "    return contatore\n",
    "\n",
    "if __name__ == '__main__':\n",
    "    string = input().strip()\n",
    "    sub_string = input().strip()\n",
    "    \n",
    "    count = count_substring(string, sub_string)\n",
    "    print(count)"
   ]
  },
  {
   "cell_type": "markdown",
   "id": "088bcf61-93f7-413f-9e15-ef20feaced8b",
   "metadata": {},
   "source": [
    "## String Validators"
   ]
  },
  {
   "cell_type": "code",
   "execution_count": null,
   "id": "4a69d5f0-7916-47c1-a587-7071169f0318",
   "metadata": {},
   "outputs": [],
   "source": [
    "if __name__ == '__main__':\n",
    "    s = input()\n",
    "    \n",
    "    uno=False\n",
    "    due=False\n",
    "    tre=False\n",
    "    quattro=False\n",
    "    cinque=False\n",
    "    for i in range(0,len(s)):\n",
    "        if s[i].isalnum()==True:\n",
    "            uno = True\n",
    "        if s[i].isalpha()==True:\n",
    "            due=True\n",
    "        if s[i].isdigit()==True:\n",
    "            tre=True\n",
    "        if s[i].islower()==True:\n",
    "            quattro=True\n",
    "        if s[i].isupper()==True:\n",
    "            cinque=True\n",
    "    print(uno)\n",
    "    print(due)\n",
    "    print(tre)\n",
    "    print(quattro)\n",
    "    print(cinque)"
   ]
  },
  {
   "cell_type": "markdown",
   "id": "8cc3c2a0-a6c6-4957-8d53-581a7770f52b",
   "metadata": {},
   "source": [
    "## Text Wrap"
   ]
  },
  {
   "cell_type": "code",
   "execution_count": null,
   "id": "0f3d2ab1-de0b-4d24-bdf6-f5b2ab61504b",
   "metadata": {},
   "outputs": [],
   "source": [
    "import textwrap\n",
    "\n",
    "def wrap(string, max_width):\n",
    "    stringa=\"\"\n",
    "    for i in range(0,len(string)):\n",
    "        stringa= stringa + string[i]\n",
    "        if (i +1 ) % max_width == 0:\n",
    "            stringa=stringa +\"\\n\"\n",
    "\n",
    "    return stringa\n",
    "\n",
    "\n",
    "\n",
    "if __name__ == '__main__':\n",
    "    string, max_width = input(), int(input())\n",
    "    result = wrap(string, max_width)\n",
    "    print(result)"
   ]
  },
  {
   "cell_type": "markdown",
   "id": "15f18759-1b95-4e1d-aaf7-f3177fa0cfd6",
   "metadata": {},
   "source": [
    "## String Formatting"
   ]
  },
  {
   "cell_type": "code",
   "execution_count": 316,
   "id": "8281eb6f-c36a-4ff8-8204-81547167b732",
   "metadata": {
    "collapsed": true,
    "jupyter": {
     "outputs_hidden": true
    },
    "tags": []
   },
   "outputs": [
    {
     "name": "stdout",
     "output_type": "stream",
     "text": [
      "    1     1     1     1\n",
      "    2     2     2    10\n",
      "    3     3     3    11\n",
      "    4     4     4   100\n",
      "    5     5     5   101\n",
      "    6     6     6   110\n",
      "    7     7     7   111\n",
      "    8    10     8  1000\n",
      "    9    11     9  1001\n",
      "   10    12     A  1010\n",
      "   11    13     B  1011\n",
      "   12    14     C  1100\n",
      "   13    15     D  1101\n",
      "   14    16     E  1110\n",
      "   15    17     F  1111\n",
      "   16    20    10 10000\n",
      "   17    21    11 10001\n"
     ]
    }
   ],
   "source": [
    "def print_formatted(number):\n",
    "    esa=hex(number)[2:]\n",
    "    if esa.isalpha()==True:\n",
    "        esa=esa.upper()\n",
    "    #Lunghezze massime :\n",
    "    prima=len(str(number))\n",
    "    seconda=len(str(oct(number)[2:]))\n",
    "    terza=len(str(esa))\n",
    "    quattro=len(str(bin(number)[2:]))\n",
    "    \n",
    "   \n",
    "    for i in range(1,(number+1)):\n",
    "        esa=hex(i)[2:]\n",
    "        if esa.isalpha()==True:\n",
    "            esa=esa.upper()\n",
    "        \n",
    "        #Assegnare a variabile i valori convertiti\n",
    "        a=str(i)\n",
    "        b=oct(i)[2:]\n",
    "        c=esa\n",
    "        d=bin(i)[2:]\n",
    "\n",
    "        print(a.rjust(quattro),b.rjust(quattro),c.rjust(quattro),d.rjust(quattro))\n",
    "\n",
    "        \n",
    "if __name__ == '__main__':\n",
    "    n = int(input())\n",
    "    print_formatted(n)"
   ]
  },
  {
   "cell_type": "markdown",
   "id": "dc452635-b7cb-4d2f-9068-d4ff52f6e734",
   "metadata": {},
   "source": [
    "## Designer Door Mat"
   ]
  },
  {
   "cell_type": "code",
   "execution_count": null,
   "id": "ee52031b-7e2e-46ef-bb83-8ab2a23b24be",
   "metadata": {},
   "outputs": [],
   "source": [
    "mn=list(map(int,input().split()))\n",
    "N=mn[0]\n",
    "M=mn[1]\n",
    "\n",
    "\n",
    "\n",
    "\n",
    "for i in range(1,N,2):\n",
    "    a=\".|.\"\n",
    "    tratti=M-len(a*i)\n",
    "    tratto=int(round(tratti/2,0))\n",
    "    print(tratto*\"-\"+a*i+tratto*\"-\")\n",
    "\n",
    "tratti=M-len(\"WELCOME\")\n",
    "tratto=int(round(tratti/2,0)) \n",
    "print(tratto*\"-\"+\"WELCOME\"+tratto*\"-\")    \n",
    "\n",
    "    \n",
    "for i in range(N-2,0,-2):\n",
    "    a=\".|.\"\n",
    "    tratti=M-len(a*i)\n",
    "    tratto=int(round(tratti/2,0))\n",
    "    print(tratto*\"-\"+a*i+tratto*\"-\")"
   ]
  },
  {
   "cell_type": "markdown",
   "id": "af2adf56-9538-4195-82d2-069573482888",
   "metadata": {},
   "source": [
    "## Alphabet Rangoli"
   ]
  },
  {
   "cell_type": "code",
   "execution_count": null,
   "id": "15bedf41-a19b-4c6d-b828-4bb373310cc2",
   "metadata": {},
   "outputs": [],
   "source": [
    "def print_rangoli(size):\n",
    "    alfabeto=[\"a\",\"b\",\"c\",\"d\",\"e\",\"f\",\"g\",\"h\",\"i\",\"j\",\"k\",\"l\",\"m\",\"n\",\"o\",\"p\"\n",
    "    ,\"q\",\"r\",\"s\",\"t\",\"u\",\"v\",\"w\",\"x\",\"y\",\"z\"]\n",
    "    lettere=alfabeto[0:size]\n",
    "    lettere.reverse()\n",
    "    \n",
    "\n",
    "    t=(size-1)*2\n",
    "    l=(size*2)-1\n",
    "    \n",
    "    dim=t+l\n",
    "    \n",
    "    \n",
    "    listino=[]\n",
    "    m=[]\n",
    "    bb=[]\n",
    "    for i in range(0,size):\n",
    "        a=[]\n",
    "        listino.append(lettere[i])\n",
    "        a.extend(listino)\n",
    "        m.extend(listino)\n",
    "        m.reverse()\n",
    "        \n",
    "        a.extend(m[1:])\n",
    "        \n",
    "        stringa=\"-\".join(a)\n",
    "        lunghezza_stringa=len(stringa)\n",
    "        ltratti=int(round((dim-len(stringa))/2))\n",
    "        \n",
    "        bb.append(ltratti*\"-\"+stringa+ltratti*\"-\")\n",
    "        m=[]\n",
    "        \n",
    "\n",
    "    cc=bb[:len(bb)-1]\n",
    "    cc.reverse()\n",
    "    bb.extend(cc)\n",
    "    print(\"\\n\".join(bb))\n",
    "if __name__ == '__main__':\n",
    "    n = int(input())\n",
    "    print_rangoli(n)"
   ]
  },
  {
   "cell_type": "markdown",
   "id": "fb8d123b-2d73-4d77-9b50-3b6bba52be94",
   "metadata": {},
   "source": [
    "## Capitalize"
   ]
  },
  {
   "cell_type": "code",
   "execution_count": null,
   "id": "b06b9688-5df3-4b74-8bba-2a20beabbb4d",
   "metadata": {},
   "outputs": [],
   "source": [
    "import math\n",
    "import os\n",
    "import random\n",
    "import re\n",
    "import sys\n",
    "\n",
    "import re\n",
    "def solve(s):\n",
    "    \n",
    "    lista=re.split(r'(\\s+)', s)\n",
    "    stringa=\"\"\n",
    "    for i in range(0,len(lista)):\n",
    "        lista[i] = lista[i].capitalize()\n",
    "    stringa=\"\".join(lista)\n",
    "        \n",
    "    \n",
    "    return stringa.strip()\n",
    "\n",
    "\n",
    "if __name__ == '__main__':\n",
    "    fptr = open(os.environ['OUTPUT_PATH'], 'w')\n",
    "\n",
    "    s = input()\n",
    "\n",
    "    result = solve(s)\n",
    "\n",
    "    fptr.write(result + '\\n')\n",
    "\n",
    "    fptr.close()"
   ]
  },
  {
   "cell_type": "markdown",
   "id": "2cf22bf1-02a1-4d05-bc69-961aac9916b0",
   "metadata": {},
   "source": [
    "## The Minion Game\n",
    "Funziona ma viene bloccato per timeout"
   ]
  },
  {
   "cell_type": "code",
   "execution_count": null,
   "id": "1aa58c2c-062b-4e01-9156-7e144b137b8c",
   "metadata": {},
   "outputs": [],
   "source": [
    "import re\n",
    "def minion_game(string):\n",
    "    \n",
    "    #Stuart\n",
    "    #Iniziale\n",
    "    if string[0] not in [\"A\",\"E\",\"I\",\"O\",\"U\"]:\n",
    "        punteggioS=1\n",
    "        punteggioK=0\n",
    "    else:\n",
    "        punteggioS=0\n",
    "        punteggioK=1\n",
    "       \n",
    "        \n",
    "    #Trovare possibili parole\n",
    "    consonanti=[]\n",
    "    vocali=[]\n",
    "    for i in range(1,len(string)):\n",
    "        for j in range(0,len(string)):\n",
    "            sub=string[j:i+j]\n",
    "            if sub[0] not in [\"A\",\"E\",\"I\",\"O\",\"U\"] and len(sub)==i and sub not in consonanti:\n",
    "                consonanti.append(sub)\n",
    "                p=re.findall(r\"(?=(\"+sub+\"))\",string)\n",
    "                punteggioS += len(p)\n",
    "            elif  sub[0]  in [\"A\",\"E\",\"I\",\"O\",\"U\"] and len(sub)==i and sub not in vocali:\n",
    "                vocali.append(sub)\n",
    "                p=re.findall(r\"(?=(\"+sub+\"))\",string)\n",
    "                punteggioK += len(p)\n",
    "            \n",
    "    \n",
    "    if punteggioK > punteggioS:\n",
    "        print(\"Kevin\",punteggioK)\n",
    "    elif punteggioK < punteggioS :\n",
    "        print(\"Stuart\",punteggioS)\n",
    "    else:\n",
    "        print(\"Draw\")\n",
    "    \n",
    "    \n"
   ]
  },
  {
   "cell_type": "markdown",
   "id": "da32d568-4df1-4e83-a8ca-2578e6d8080a",
   "metadata": {},
   "source": [
    "## Merge the Tools!"
   ]
  },
  {
   "cell_type": "code",
   "execution_count": null,
   "id": "1a7800f7-5c0a-4f36-8d51-3b917db64258",
   "metadata": {},
   "outputs": [],
   "source": [
    "def merge_the_tools(string, k):\n",
    "    k=int(k)\n",
    "\n",
    "    for i in range(0,len(string),k):\n",
    "        sottostringa=string[i:k+i]\n",
    "        a=\"\"\n",
    "        for j in range(0,len(sottostringa)):\n",
    "            if sottostringa[j] not in a:\n",
    "                a += sottostringa[j]\n",
    "        print(a)\n",
    "                \n",
    "if __name__ == '__main__':\n",
    "    string, k = input(), int(input())\n",
    "    merge_the_tools(string, k)"
   ]
  },
  {
   "cell_type": "markdown",
   "id": "85b611cd-7a93-485f-825c-f558932d6a39",
   "metadata": {},
   "source": [
    "## Text Alignment"
   ]
  },
  {
   "cell_type": "code",
   "execution_count": 279,
   "id": "29076e90-e899-419b-9be4-60b7242fca27",
   "metadata": {},
   "outputs": [
    {
     "name": "stdout",
     "output_type": "stream",
     "text": [
      "  H  \n",
      " HHH \n",
      "HHHHH\n",
      " HHH         HHH        \n",
      " HHH         HHH        \n",
      " HHH         HHH        \n",
      " HHH         HHH        \n",
      " HHHHHHHHHHHHHHH  \n",
      " HHHHHHHHHHHHHHH  \n",
      " HHH         HHH        \n",
      " HHH         HHH        \n",
      " HHH         HHH        \n",
      " HHH         HHH        \n",
      "            HHHHH             \n",
      "             HHH              \n",
      "              H               \n"
     ]
    }
   ],
   "source": [
    "thickness =int(input()) #This must be an odd number\n",
    "c = 'H'\n",
    "\n",
    "#Top Cone\n",
    "for i in range(thickness):\n",
    "    print((c*i).rjust(thickness-1)+c+(c*i).ljust(thickness-1))\n",
    "\n",
    "#Top Pillars\n",
    "for i in range(thickness+1):\n",
    "    print((c*thickness).center(thickness*2)+(c*thickness).center(thickness*6))\n",
    "\n",
    "#Middle Belt\n",
    "for i in range((thickness+1)//2):\n",
    "    print((c*thickness*5).center(thickness*6))    \n",
    "\n",
    "#Bottom Pillars\n",
    "for i in range(thickness+1):\n",
    "    print((c*thickness).center(thickness*2)+(c*thickness).center(thickness*6))    \n",
    "\n",
    "#Bottom Cone\n",
    "for i in range(thickness):\n",
    "    print(((c*(thickness-i-1)).rjust(thickness)+c+(c*(thickness-i-1)).ljust(thickness)).center(thickness*10))"
   ]
  },
  {
   "cell_type": "markdown",
   "id": "c7017120-3406-4501-9f0f-0984c9079349",
   "metadata": {},
   "source": [
    "# Sets"
   ]
  },
  {
   "cell_type": "markdown",
   "id": "21f4ece0-b38e-44aa-bd90-25de4a6b82d4",
   "metadata": {},
   "source": [
    "## Introduction to Sets"
   ]
  },
  {
   "cell_type": "code",
   "execution_count": null,
   "id": "3b31c124-cd5a-498f-aa60-c7cef3a374d5",
   "metadata": {},
   "outputs": [],
   "source": [
    "def average(array):\n",
    "\n",
    "    no_duplicati=list(dict.fromkeys(array))\n",
    "    somma=sum(no_duplicati)\n",
    "\n",
    "    media=somma/len(no_duplicati)\n",
    "    media=\"%.3f\" % media\n",
    "    \n",
    "    return media\n",
    "  \n",
    "    # your code goes here\n",
    "\n",
    "if __name__ == '__main__':\n",
    "    n = int(input())\n",
    "    arr = list(map(int, input().split()))\n",
    "    result = average(arr)\n",
    "    print(result)"
   ]
  },
  {
   "cell_type": "markdown",
   "id": "46c14a02-2873-41b2-a7ec-eefb0ecba18c",
   "metadata": {},
   "source": [
    "## Symmetric Difference"
   ]
  },
  {
   "cell_type": "code",
   "execution_count": null,
   "id": "57c9addb-f85d-4987-9371-15ac84091413",
   "metadata": {},
   "outputs": [],
   "source": [
    "if __name__==\"__main__\":\n",
    "    M=int(input())\n",
    "    M_i=set(input().split())\n",
    "    \n",
    "    N=int(input())\n",
    "    N_i=set(input().split())\n",
    "    \n",
    "    m=M_i.difference(N_i)\n",
    "    n=N_i.difference(M_i)\n",
    "   \n",
    "    \n",
    "    \n",
    "    tot=n.union(m)\n",
    "    tot=list(map(int,tot))\n",
    "    tot.sort()\n",
    "    for i in range(0,len(tot)):\n",
    "        print(tot[i])"
   ]
  },
  {
   "cell_type": "markdown",
   "id": "04f0d8a8-67c4-4850-b577-5bc30842c49f",
   "metadata": {},
   "source": [
    "## Set .add()"
   ]
  },
  {
   "cell_type": "code",
   "execution_count": null,
   "id": "ff2e3122-0d2d-4505-bc5f-cc42bce8f0ae",
   "metadata": {},
   "outputs": [],
   "source": [
    "if __name__=='__main__':\n",
    "    N=int(input())\n",
    "    \n",
    "    a=set()\n",
    "    for i in range(0,N):\n",
    "        n=str(input())\n",
    "        a.add(n)\n",
    "    print(len(a))"
   ]
  },
  {
   "cell_type": "markdown",
   "id": "0eaf7318-4131-4ce7-9e21-9003c370f270",
   "metadata": {},
   "source": [
    "## Set .discard(), .remove() & .pop()"
   ]
  },
  {
   "cell_type": "code",
   "execution_count": null,
   "id": "5e5b64de-3e5f-4bfb-a00c-76c61201b5df",
   "metadata": {},
   "outputs": [],
   "source": [
    "import re\n",
    "n = int(input())\n",
    "s = set(map(int, input().split()))\n",
    "N=int(input())\n",
    "for i in range(0,N):\n",
    "    stringa=str(input())\n",
    "    \n",
    "    pattern=re.compile(r\"[a-zA-Z]+\")\n",
    "    \n",
    "    comando=pattern.search(stringa)\n",
    "    comando=comando[0].strip()\n",
    "    \n",
    "    numero=re.findall(r\"[\\d]+\",stringa)\n",
    "    numero=list(map(int,numero))\n",
    "    \n",
    "    #print(comando[0],numero)\n",
    "    if comando==\"pop\":\n",
    "        #print(s)\n",
    "        s.pop()\n",
    "\n",
    "    elif comando==\"remove\" and numero[0] in s:\n",
    "        s.remove(numero[0])\n",
    "   \n",
    "    elif comando==\"discard\":\n",
    "        s.discard(numero[0])\n",
    "       \n",
    "print(sum(s))"
   ]
  },
  {
   "cell_type": "markdown",
   "id": "e510a7b8-cc78-400c-a6b7-4856f6a8dde5",
   "metadata": {},
   "source": [
    "## Set .union() Operation"
   ]
  },
  {
   "cell_type": "code",
   "execution_count": null,
   "id": "16de89d2-5d5d-40f9-a2aa-4efb39fbf4bc",
   "metadata": {},
   "outputs": [],
   "source": [
    "n=int(input())\n",
    "a=set(map(int,input().split()))\n",
    "\n",
    "nn=int(input())\n",
    "b=set(map(int,input().split()))\n",
    "\n",
    "print(len(a.union(b)))"
   ]
  },
  {
   "cell_type": "markdown",
   "id": "a0120f6e-1314-41fa-9983-6d3c65f6a80f",
   "metadata": {},
   "source": [
    "Set .intersection() Operation"
   ]
  },
  {
   "cell_type": "code",
   "execution_count": null,
   "id": "3ecaab14-9532-4f13-aa66-9ca7fea8f2fc",
   "metadata": {},
   "outputs": [],
   "source": [
    "n=int(input())\n",
    "a=set(map(int,input().split()))\n",
    "\n",
    "nn=int(input())\n",
    "b=set(map(int,input().split()))\n",
    "\n",
    "print(len(a.intersection(b)))"
   ]
  },
  {
   "cell_type": "markdown",
   "id": "02482859-1e27-4547-b039-59a556fb7835",
   "metadata": {},
   "source": [
    "## Set .difference() Operation"
   ]
  },
  {
   "cell_type": "code",
   "execution_count": null,
   "id": "1ac9691b-7bf6-4962-a5e8-70ec35157a4e",
   "metadata": {},
   "outputs": [],
   "source": [
    "n=int(input())\n",
    "a=set(map(int,input().split()))\n",
    "\n",
    "nn=int(input())\n",
    "b=set(map(int,input().split()))\n",
    "\n",
    "print(len(a.difference(b)))"
   ]
  },
  {
   "cell_type": "markdown",
   "id": "303c05c4-ca61-4792-8eb1-9ce5ce5c415b",
   "metadata": {},
   "source": [
    "## Set .symmetric_difference() Operation"
   ]
  },
  {
   "cell_type": "code",
   "execution_count": null,
   "id": "ae9dac20-229a-4a8d-a04b-545cfe313a35",
   "metadata": {},
   "outputs": [],
   "source": [
    "n=int(input())\n",
    "a=set(map(int,input().split()))\n",
    "\n",
    "nn=int(input())\n",
    "b=set(map(int,input().split()))\n",
    "\n",
    "print(len(a.symmetric_difference(b)))"
   ]
  },
  {
   "cell_type": "markdown",
   "id": "83d0ab9c-827e-43ee-bd68-f1710ee06f4b",
   "metadata": {},
   "source": [
    "## Set Mutations"
   ]
  },
  {
   "cell_type": "code",
   "execution_count": null,
   "id": "a794a3d9-b94b-45d7-a023-1ce1ae77e902",
   "metadata": {},
   "outputs": [],
   "source": [
    "n=int(input())\n",
    "A=set(map(int,input().split()))\n",
    "\n",
    "N=int(input())\n",
    "for i in range(0,N):\n",
    " \n",
    "    comandi=input().split()\n",
    "\n",
    "    comando=comandi[0]\n",
    "    \n",
    "    B=set(map(int,input().split()))\n",
    "    \n",
    "    if comando==\"update\":\n",
    "        A.update(B)\n",
    "    elif comando==\"intersection_update\":\n",
    "        A.intersection_update(B)\n",
    "    elif comando==\"symmetric_difference_update\":\n",
    "        A.symmetric_difference_update(B)\n",
    "    elif comando==\"difference_update\":\n",
    "        A.difference_update(B)\n",
    "print(sum(A))\n"
   ]
  },
  {
   "cell_type": "markdown",
   "id": "efbc4f9e-beba-493d-8968-fb131f125dd1",
   "metadata": {},
   "source": [
    "## Check Subset"
   ]
  },
  {
   "cell_type": "code",
   "execution_count": null,
   "id": "f14cf257-2aed-440a-8145-0c349d4445f5",
   "metadata": {},
   "outputs": [],
   "source": [
    "test=int(input())\n",
    "for i in range(0,test):\n",
    "    n=int(input())\n",
    "    A=set(map(int,input().split()))\n",
    "\n",
    "    n=int(input())\n",
    "    B=set(map(int,input().split()))\n",
    "\n",
    "    intersezione=A.intersection(B)\n",
    "    if A==intersezione:\n",
    "        print(True)\n",
    "    else:\n",
    "        print(False)"
   ]
  },
  {
   "cell_type": "markdown",
   "id": "d5a7dfb1-bdf8-48e8-8b39-7163787534a9",
   "metadata": {},
   "source": [
    "## Check Strict Superset"
   ]
  },
  {
   "cell_type": "code",
   "execution_count": null,
   "id": "75d1189b-9829-4505-9243-b821bb5e35e0",
   "metadata": {},
   "outputs": [],
   "source": [
    "A=set(map(int,input().split()))\n",
    "n=int(input())\n",
    "\n",
    "condizione=True\n",
    "for i in range(0,n):\n",
    "    B=set(map(int,input().split()))\n",
    "\n",
    "    if B==A.intersection(B) and len(B) < len(A):\n",
    "        continue\n",
    "        \n",
    "    condizione=False \n",
    "    \n",
    "print(condizione)"
   ]
  },
  {
   "cell_type": "markdown",
   "id": "0f8fc69d-6a1e-4641-8ee2-9b31adae0f92",
   "metadata": {},
   "source": [
    "## No Idea!"
   ]
  },
  {
   "cell_type": "code",
   "execution_count": null,
   "id": "6d47716e-9b64-4e73-94db-056efa5f66af",
   "metadata": {},
   "outputs": [],
   "source": [
    "o=list(map(int,input().split()))\n",
    "\n",
    "array=list(map(int,input().split()))\n",
    "\n",
    "A=set(map(int,input().split()))\n",
    "B=set(map(int,input().split()))\n",
    "\n",
    "\n",
    "\n",
    "happy=0\n",
    "for i in range(0,len(array)):\n",
    "    if array[i] in A:\n",
    "        happy += 1\n",
    "    elif array[i] in B:\n",
    "        happy += -1\n",
    "print(happy)"
   ]
  },
  {
   "cell_type": "markdown",
   "id": "a1d17b59-626e-40ba-9811-af8fa63b4d52",
   "metadata": {},
   "source": [
    "## The Captain's Room"
   ]
  },
  {
   "cell_type": "code",
   "execution_count": null,
   "id": "0ccdc96b-59f6-48e8-b9ef-05e53bcfa2f5",
   "metadata": {},
   "outputs": [],
   "source": [
    "from collections import Counter\n",
    "\n",
    "n=int(input())\n",
    "gruppi=input().split()\n",
    "\n",
    "\n",
    "C=Counter()\n",
    "for i in range(0,len(gruppi)):\n",
    "    C[gruppi[i]]+=1\n",
    "\n",
    "\n",
    "for i in C.keys():\n",
    "    if C[i] != n :\n",
    "        print(i)"
   ]
  },
  {
   "cell_type": "markdown",
   "id": "d581b8d4-da65-4ab4-b29d-fa0bce0bde82",
   "metadata": {},
   "source": [
    "# Collection"
   ]
  },
  {
   "cell_type": "markdown",
   "id": "7519105b-20d2-4b0b-a39d-135b6fe87f57",
   "metadata": {},
   "source": [
    "## collections.Counter()"
   ]
  },
  {
   "cell_type": "code",
   "execution_count": null,
   "id": "5c0dace2-6ba6-4fac-9822-86a1da6da9db",
   "metadata": {},
   "outputs": [],
   "source": [
    "X=int(input()) \n",
    "scarpe=list(map(int,input().split()))\n",
    "C=int(input()) \n",
    "\n",
    "guadagno=0\n",
    "for i in range(0,C):\n",
    "    richiesta=list(map(int,input().split()))\n",
    "    \n",
    "    taglia=richiesta[0]\n",
    "    prezzo=richiesta[1]\n",
    "    if taglia in scarpe:\n",
    "        guadagno += prezzo\n",
    "        scarpe.remove(taglia)\n",
    "    \n",
    "print(guadagno)"
   ]
  },
  {
   "cell_type": "markdown",
   "id": "d5002d82-a736-4ad7-a506-a21e912aa501",
   "metadata": {},
   "source": [
    "## Collections.namedtuple()"
   ]
  },
  {
   "cell_type": "code",
   "execution_count": null,
   "id": "d2aee679-2bd7-414e-a0e6-9a4a15f20771",
   "metadata": {},
   "outputs": [],
   "source": [
    "from collections import namedtuple \n",
    "N=int(input())\n",
    "columns_name=input().split()\n",
    "info=namedtuple(\"info\",columns_name)\n",
    "\n",
    "contatore =0 \n",
    "for i in range(0,N):\n",
    "    riga=input().split()\n",
    "\n",
    "    riga=info._make(riga)\n",
    "    contatore += int(riga.MARKS)\n",
    "print(\"%.2f\"% (contatore/N))"
   ]
  },
  {
   "cell_type": "markdown",
   "id": "d5eaeb9b-fdca-4eca-8cad-09a8fa862e4d",
   "metadata": {},
   "source": [
    "## Collections.OrderedDict()"
   ]
  },
  {
   "cell_type": "code",
   "execution_count": null,
   "id": "b2b1b325-328c-45b1-97ba-e6e5c4bc08f2",
   "metadata": {},
   "outputs": [],
   "source": [
    "from collections import OrderedDict\n",
    "import re \n",
    "N=int(input())\n",
    "diz=OrderedDict()\n",
    "for i in range(0,N):\n",
    "    o=input()\n",
    "    nome=re.findall(r\"[a-zA-Z \\s]+\",o)\n",
    "    nome=nome[0].strip()\n",
    "    prezzo=re.findall(r\"[\\d]+\",o)\n",
    "    prezzo=int(prezzo[0].strip())\n",
    "    if nome not in diz:\n",
    "        diz[nome]=prezzo\n",
    "    else:\n",
    "        valore=diz[nome]\n",
    "        diz[nome]= valore + prezzo\n",
    "for i in diz.keys():\n",
    "    print(i,diz[i])\n",
    "\n"
   ]
  },
  {
   "cell_type": "markdown",
   "id": "18d8dcac-68a8-4b70-9881-2d7879d337e4",
   "metadata": {},
   "source": [
    "## Word Order"
   ]
  },
  {
   "cell_type": "code",
   "execution_count": null,
   "id": "f7e90d60-d64c-4455-b75a-43b71c8b737e",
   "metadata": {},
   "outputs": [],
   "source": [
    "from collections import OrderedDict\n",
    "n=int(input())\n",
    "diz=OrderedDict()\n",
    "for i in range(0,n):\n",
    "    stringa=input().strip()\n",
    "    if stringa not in diz:\n",
    "        diz[stringa]=1\n",
    "    else:\n",
    "        valore=diz[stringa]\n",
    "        diz[stringa]=valore +1 \n",
    "print(len(diz))\n",
    "\n",
    "for i in diz.keys():\n",
    "    print(diz[i],end=\" \")"
   ]
  },
  {
   "cell_type": "markdown",
   "id": "952789a4-091b-45bf-b951-a789159b8696",
   "metadata": {},
   "source": [
    "## Collections.deque()"
   ]
  },
  {
   "cell_type": "code",
   "execution_count": null,
   "id": "608c239e-2636-488e-ad44-1ae054da5db5",
   "metadata": {},
   "outputs": [],
   "source": [
    "from collections import deque\n",
    "n=int(input())\n",
    "d=deque()\n",
    "for i in range(0,n):\n",
    "    comandi=input().split()\n",
    "    comando=comandi[0].strip()\n",
    "    \n",
    "    if comando==\"append\":\n",
    "        d.append(int(comandi[1]))\n",
    "    elif comando==\"appendleft\":\n",
    "        d.appendleft(int(comandi[1]))\n",
    "    elif comando==\"pop\":\n",
    "        d.pop()\n",
    "    elif comando==\"popleft\":\n",
    "        d.popleft()\n",
    "    elif comando==\"remove\":\n",
    "        d.remove(int(comandi[1]))\n",
    "    elif comando==\"reverse\":\n",
    "        d.reverse()\n",
    "    elif comando==\"rotate\":\n",
    "        d.rotate(int(comandi[1]))\n",
    "    elif comando==\"extend\":\n",
    "        d.extend(int(comandi[1]))\n",
    "for i in d:\n",
    "    print(i,end=\" \")"
   ]
  },
  {
   "cell_type": "markdown",
   "id": "fc6d673c-5680-43ea-a6ab-1c13429a27f7",
   "metadata": {},
   "source": [
    "## Company Logo"
   ]
  },
  {
   "cell_type": "code",
   "execution_count": null,
   "id": "d4680ebc-65f9-473d-830f-63dd4a3c3e4c",
   "metadata": {},
   "outputs": [],
   "source": [
    "import math\n",
    "import os\n",
    "import random\n",
    "import re\n",
    "import sys\n",
    "from collections import Counter\n",
    "\n",
    "if __name__ == '__main__':\n",
    "    cont=Counter()\n",
    "    s = input()\n",
    "    s=list(s)\n",
    "    s.sort()\n",
    "    s=\"\".join(s)\n",
    "    \n",
    "    #print(s)\n",
    "    for i in range(0,len(s)):\n",
    "        cont[s[i]] +=1 \n",
    "    elementi=cont.most_common(3)\n",
    "    #elementi=list(map(str,elementi))\n",
    "    \n",
    "    for i in range(len(elementi)):\n",
    "        print(elementi[i][0],elementi[i][1])        "
   ]
  },
  {
   "cell_type": "markdown",
   "id": "1a4d1c3a-c006-4dca-b34a-e576236983b0",
   "metadata": {},
   "source": [
    "## DefaultDict Tutorial"
   ]
  },
  {
   "cell_type": "code",
   "execution_count": null,
   "id": "fde6a610-ddd3-4db8-bfb7-dbfe2d687739",
   "metadata": {},
   "outputs": [],
   "source": [
    "from collections import defaultdict,Counter\n",
    "inn=list(map(int,input().split()))\n",
    "n=inn[0]\n",
    "m=inn[1]\n",
    "\n",
    "A=defaultdict(list)\n",
    "\n",
    "\n",
    "for i in range(0,n):\n",
    "    word=input()\n",
    "    A[word].append(str(i+1))\n",
    "\n",
    "for b in range(0,m):\n",
    "    parola=input()\n",
    "    if parola  in A:\n",
    "        print(\" \".join(A[parola]))\n",
    "    else:\n",
    "        print(\"-1\") "
   ]
  },
  {
   "cell_type": "markdown",
   "id": "e97be7f2-bed8-4e2d-9ba4-06eac0590490",
   "metadata": {},
   "source": [
    "## Piling Up!"
   ]
  },
  {
   "cell_type": "code",
   "execution_count": null,
   "id": "38063f9b-0da6-4d8a-956a-912a12ff525f",
   "metadata": {},
   "outputs": [],
   "source": [
    "from collections import deque \n",
    "\n",
    "T=int(input())\n",
    "for i in range(0,T):\n",
    "    nblock=int(input())\n",
    "    blocco=list(map(int,input().split()))\n",
    "    \n",
    "    d=deque()\n",
    "    d.extend(blocco)\n",
    "    ordine=[]\n",
    "    for i in range(0,len(d)):\n",
    "        if d[0]>=d[-1]:\n",
    "            ordine.append(d[0])\n",
    "            d.popleft()\n",
    "        elif d[-1]> d[0]:\n",
    "            ordine.append(d[-1])\n",
    "            d.pop()\n",
    "\n",
    "    blocco.sort(reverse=True)\n",
    "\n",
    "    if blocco==ordine:\n",
    "        print(\"Yes\")\n",
    "    else:\n",
    "        print(\"No\") "
   ]
  },
  {
   "cell_type": "markdown",
   "id": "2fd99ff4-fe68-48bb-9f44-d7d68d8fb2fa",
   "metadata": {},
   "source": [
    "# Date and Time"
   ]
  },
  {
   "cell_type": "markdown",
   "id": "60594dbc-e7a7-4a22-9862-0b56f67ed4cc",
   "metadata": {},
   "source": [
    "## Calendar Module"
   ]
  },
  {
   "cell_type": "code",
   "execution_count": null,
   "id": "4c9259e3-ded5-430e-b619-97b4933877a0",
   "metadata": {},
   "outputs": [],
   "source": [
    "from datetime import datetime\n",
    "data=input().split()\n",
    "data=\"/\".join(data)\n",
    "a=datetime.strptime(data, '%m/%d/%Y')\n",
    "\n",
    "print(a.strftime(\"%A\").upper())"
   ]
  },
  {
   "cell_type": "markdown",
   "id": "196f6de8-641a-464f-9399-f7c20a922a19",
   "metadata": {},
   "source": [
    "## Time Delta"
   ]
  },
  {
   "cell_type": "code",
   "execution_count": 34,
   "id": "c0d19297-8824-4da2-9675-a72d9c76d2b7",
   "metadata": {},
   "outputs": [
    {
     "name": "stdout",
     "output_type": "stream",
     "text": [
      "Sun 10 May 2015 13:54:36 -0700\n",
      "2015-05-10 13:54:36-07:00\n"
     ]
    }
   ],
   "source": [
    "import math\n",
    "import os\n",
    "import random\n",
    "import re\n",
    "import sys\n",
    "from datetime import datetime\n",
    "def time_delta(t1, t2):\n",
    "\n",
    "    t1=datetime.strptime(t1, \"%a %d %b %Y %H:%M:%S %z\")\n",
    "    t2=datetime.strptime(t2, \"%a %d %b %Y %H:%M:%S %z\")\n",
    "    delta=t1-t2\n",
    "    diff=delta.total_seconds()\n",
    "    diff=abs(round(int(diff),0))\n",
    "    return str(diff)\n",
    "\n",
    "if __name__ == '__main__':\n",
    "    fptr = open(os.environ['OUTPUT_PATH'], 'w')\n",
    "\n",
    "    t = int(input())\n",
    "\n",
    "    for t_itr in range(t):\n",
    "        t1 = input()\n",
    "\n",
    "        t2 = input()\n",
    "\n",
    "        delta = time_delta(t1, t2)\n",
    "\n",
    "        fptr.write(delta + '\\n')\n",
    "\n",
    "    fptr.close()"
   ]
  },
  {
   "cell_type": "markdown",
   "id": "50bf6d74-069f-41bd-b78a-778cdac025a9",
   "metadata": {},
   "source": [
    "# Errors and Exceptions"
   ]
  },
  {
   "cell_type": "markdown",
   "id": "38fb02e2-fa82-4bfd-a1e2-f3ad639f7606",
   "metadata": {},
   "source": [
    "## Exceptions"
   ]
  },
  {
   "cell_type": "code",
   "execution_count": null,
   "id": "05f5b33b-d497-4f09-ae09-fc7771c474f3",
   "metadata": {},
   "outputs": [],
   "source": [
    "T=int(input())\n",
    "for i in range(0,T):\n",
    "    try:\n",
    "        numeri=list(map(int,input().split()))\n",
    "    except ValueError as e:\n",
    "        print(\"Error Code:\",e)  \n",
    "        continue\n",
    "    \n",
    "        \n",
    "\n",
    "    try:    \n",
    "        divisione=numeri[0]//numeri[1]\n",
    "        print(divisione)\n",
    "    except ZeroDivisionError as e:\n",
    "        print(\"Error Code:\",e)  "
   ]
  },
  {
   "cell_type": "markdown",
   "id": "0439543a-8cfd-45bc-a6cc-81b36a9109a7",
   "metadata": {},
   "source": [
    "# Built-ins"
   ]
  },
  {
   "cell_type": "markdown",
   "id": "cdd8c30d-bee1-4173-a2c4-628ad9601482",
   "metadata": {},
   "source": [
    "## zipped"
   ]
  },
  {
   "cell_type": "code",
   "execution_count": 43,
   "id": "f7e3acb9-ed34-4a52-a2f1-65c462c42b2e",
   "metadata": {},
   "outputs": [
    {
     "name": "stdout",
     "output_type": "stream",
     "text": [
      "[[89.0, 90.0, 78.0, 93.0, 80.0], [90.0, 91.0, 85.0, 88.0, 86.0]]\n",
      "[(89.0, 90.0), (90.0, 91.0), (78.0, 85.0), (93.0, 88.0), (80.0, 86.0)]\n"
     ]
    }
   ],
   "source": [
    "NX=list(map(int,input().split()))\n",
    "N=NX[0] #numero studenti\n",
    "X=NX[1] #numero materie\n",
    "\n",
    "tutti=[]\n",
    "for i in range(0,X):\n",
    "    a=list(map(float,input().split()))\n",
    "    tutti.append(a)\n",
    "\n",
    "voti=list(zip(*tutti))\n",
    "for i in range(0,len(voti)):\n",
    "    media=sum(voti[i])/X\n",
    "    print(round(media,1))"
   ]
  },
  {
   "cell_type": "markdown",
   "id": "b9b1faa7-0103-4c84-9a3e-726ebc48e140",
   "metadata": {},
   "source": [
    "## Athlete Sort"
   ]
  },
  {
   "cell_type": "code",
   "execution_count": null,
   "id": "12472040-cef6-4864-b8e1-f9fe6348c6b8",
   "metadata": {},
   "outputs": [],
   "source": [
    "import math\n",
    "import os\n",
    "import random\n",
    "import re\n",
    "import sys\n",
    "from collections import defaultdict\n",
    "if __name__ == '__main__':\n",
    "    nm = input().split()\n",
    "\n",
    "    n = int(nm[0])\n",
    "\n",
    "    m = int(nm[1])\n",
    "\n",
    "    arr = []\n",
    "\n",
    "    for _ in range(n):\n",
    "        arr.append(list(map(int, input().rstrip().split())))\n",
    "    \n",
    "    \n",
    "    k = int(input())\n",
    "    diz=defaultdict(list)\n",
    "    for i in range(0,len(arr)):\n",
    "        chiave=str(arr[i][k])\n",
    "        diz[chiave].append(arr[i])\n",
    "            \n",
    "    chiavi=list(map(int,list(diz.keys())))\n",
    "    chiavi.sort()\n",
    "    #print(diz)\n",
    "    #print(chiavi)\n",
    "    for i in range(0,len(chiavi)):\n",
    "        elemento=diz[str(chiavi[i])]\n",
    "        #print(elemento,len(elemento))\n",
    "        if len(elemento) >1 :\n",
    "            for j in range(0,len(elemento)):\n",
    "                elementoj=list(map(str,elemento[j]))\n",
    "                print(\" \".join(elementoj))\n",
    "        else :    \n",
    "           elementoj=list(map(str,elemento[0]))\n",
    "           #print(elementoj)\n",
    "           print(\" \".join(elementoj))"
   ]
  },
  {
   "cell_type": "markdown",
   "id": "ecdd21bb-e7e3-4c0e-9043-9e9960ba3811",
   "metadata": {},
   "source": [
    "## ginortS"
   ]
  },
  {
   "cell_type": "code",
   "execution_count": null,
   "id": "5e46610f-b607-4d34-9b1a-fad6102cf9af",
   "metadata": {},
   "outputs": [],
   "source": [
    "s=input()\n",
    "\n",
    "lower=[]\n",
    "upper=[]\n",
    "pari=[]\n",
    "dispari=[]\n",
    "for i in range(0,len(s)):\n",
    "    if s[i].islower()==True:\n",
    "        lower.append(s[i])\n",
    "    elif s[i].isupper()==True:\n",
    "        upper.append(s[i])\n",
    "    else:\n",
    "        numero=int(s[i])\n",
    "        if numero % 2 == 0:\n",
    "            pari.append(str(numero))\n",
    "        else:\n",
    "            dispari.append(str(numero))\n",
    "\n",
    "lower.sort()\n",
    "upper.sort()\n",
    "pari.sort()\n",
    "dispari.sort()\n",
    "lower.extend(upper)\n",
    "lower.extend(dispari)\n",
    "lower.extend(pari)\n",
    "\n",
    "a=\"\".join(lower)\n",
    "print(a)"
   ]
  },
  {
   "cell_type": "markdown",
   "id": "5ce32ed4-a060-4806-8063-a7a555841a61",
   "metadata": {},
   "source": [
    "# Python Functionals"
   ]
  },
  {
   "cell_type": "markdown",
   "id": "9f73dc9d-1329-4b10-a471-32a2fa35e5e4",
   "metadata": {},
   "source": [
    "## Map and Lambda Function"
   ]
  },
  {
   "cell_type": "code",
   "execution_count": null,
   "id": "d73ffbe2-4718-4235-96b1-4f7531e834d7",
   "metadata": {},
   "outputs": [],
   "source": [
    "cube = lambda x: x**3\n",
    "\n",
    "def fibonacci(n):\n",
    " \n",
    "    c=[]\n",
    "    for i in range(0,n):\n",
    "        if i==0:\n",
    "            c.append(i)\n",
    "        elif i==1:\n",
    "            c.append(i)\n",
    "        else:\n",
    "            c.append(c[i-2]+c[i-1])\n",
    "    return c\n",
    "\n",
    "if __name__ == '__main__':\n",
    "    n = int(input())\n",
    "    print(list(map(cube, fibonacci(n))))"
   ]
  },
  {
   "cell_type": "markdown",
   "id": "d0fa53db-1a51-4fe5-9b39-9dc1195f9f7c",
   "metadata": {},
   "source": [
    "# Regex and Parsing"
   ]
  },
  {
   "cell_type": "markdown",
   "id": "400f9a49-8097-42ef-94cb-e82e106aec78",
   "metadata": {},
   "source": [
    "## Detect Floating Point Number"
   ]
  },
  {
   "cell_type": "code",
   "execution_count": null,
   "id": "7057e51d-35db-4a18-9894-6fb61e7fa40f",
   "metadata": {},
   "outputs": [],
   "source": [
    "import re\n",
    "from collections import Counter\n",
    "T=int(input())\n",
    "for i in range(0,T):\n",
    "    s=input()\n",
    "    l=len(s)\n",
    "    o=re.findall(r\"[+-\\.]?[\\d]*\\.[\\d]+\",s)\n",
    "    if o!=[] and l==len(o[0]) :\n",
    "        punti=re.findall(r\"\\.\",o[0])\n",
    "        if len(punti) > 1 or len(o[0])==1:\n",
    "            print(False)\n",
    "        else:\n",
    "            print(True)\n",
    "    else:\n",
    "        print(False)"
   ]
  },
  {
   "cell_type": "markdown",
   "id": "147e8a1d-3989-474f-9cd4-1e9efda867b8",
   "metadata": {},
   "source": [
    "## Re.split()"
   ]
  },
  {
   "cell_type": "code",
   "execution_count": null,
   "id": "71343750-7415-41d9-9360-067148eacd81",
   "metadata": {},
   "outputs": [],
   "source": [
    "regex_pattern = r\"[,\\.]\"\t# Do not delete 'r'.\n",
    "\n",
    "import re\n",
    "print(\"\\n\".join(re.split(regex_pattern, input())))"
   ]
  },
  {
   "cell_type": "markdown",
   "id": "b5b5fcaa-ad21-4991-b486-4258388afc5b",
   "metadata": {},
   "source": [
    "## Group(), Groups() & Groupdict()"
   ]
  },
  {
   "cell_type": "code",
   "execution_count": null,
   "id": "f687e30f-ae58-46f6-a70a-4819081b46c8",
   "metadata": {},
   "outputs": [],
   "source": [
    "import re\n",
    "stringa=input()\n",
    "def luca_nervi(s):\n",
    "    p=re.findall(r\"[a-zA-Z0-9]*\",s)\n",
    "    s=\"\".join(p)\n",
    "    for i in range(0,len(s)-1):\n",
    "        if s[i] ==s[i+1]:\n",
    "            return (s[i])\n",
    "    return \"-1\"\n",
    "\n",
    "print(luca_nervi(stringa))"
   ]
  },
  {
   "cell_type": "markdown",
   "id": "6932c04a-6a7e-4124-b6ea-f6d333bdb6b5",
   "metadata": {},
   "source": [
    "## Re.findall() & Re.finditer()"
   ]
  },
  {
   "cell_type": "code",
   "execution_count": null,
   "id": "fbeace1c-ac9e-4498-bd31-5a5fc2a7ac76",
   "metadata": {},
   "outputs": [],
   "source": [
    "import re\n",
    "\n",
    "s=input()\n",
    "\n",
    "gruppi_vocali=re.finditer(r\"(?=([QWRTYPSDFGHJKLZXCVBNMqwrtypsdfghjklzxcvbnm][AEIOUaeiou]{2,}[QWRTYPSDFGHJKLZXCVBNMqwrtypsdfghjklzxcvbnm]))\",s)\n",
    "notoverlap = [(i.group(1)) for i in gruppi_vocali]\n",
    "\n",
    "vocali=\"\".join(notoverlap)\n",
    "vocali=re.findall(r\"[AEIOUaeiou]{2,}\",vocali)\n",
    "if vocali==[]:\n",
    "    print(\"-1\")\n",
    "\n",
    "else:\n",
    "    print(\"\\n\".join(vocali)) "
   ]
  },
  {
   "cell_type": "markdown",
   "id": "3f27c33d-51c9-4b16-8eac-995d3d8d1c53",
   "metadata": {},
   "source": [
    "## Re.start() & Re.end()"
   ]
  },
  {
   "cell_type": "code",
   "execution_count": null,
   "id": "74540430-649a-47ae-9191-cf4b4d53ba2b",
   "metadata": {},
   "outputs": [],
   "source": [
    "import re\n",
    "S=input()\n",
    "k=input()\n",
    "\n",
    "def d(S,k): \n",
    "    width=len(k)\n",
    "    out=[]\n",
    "    for i in range(0,len(S)):\n",
    "        #print(i,width+i)\n",
    "        #print(S[i:width+i])\n",
    "        a=re.search(r\"\"+k+\"\",S[i:width+i])\n",
    "        if bool(a)==True:\n",
    "            t=tuple((i,width+i-1))\n",
    "            out.append(t)\n",
    "    if len(out) <1 :\n",
    "        return [(-1,-1)]\n",
    "    return out\n",
    "o=d(S,k)\n",
    "for i in range(0,len(o)):\n",
    "    print(o[i])"
   ]
  },
  {
   "cell_type": "markdown",
   "id": "dbefff12-db2d-4411-9752-bd64c4ba0538",
   "metadata": {},
   "source": [
    "## Regex Substitution"
   ]
  },
  {
   "cell_type": "code",
   "execution_count": null,
   "id": "6b6e0431-3022-4d09-93b4-dadbca3ae590",
   "metadata": {},
   "outputs": [],
   "source": [
    "import re \n",
    "N=int(input())\n",
    "for i in range(N):\n",
    "    linea=input()\n",
    " \n",
    "    sostituzioni=re.findall(r\"(?= [\\&]{2} )\",linea)\n",
    "    for j in range(0,len(sostituzioni)):\n",
    "        linea=re.sub(r\" \\&\\& \",\" and \",linea)\n",
    "        \n",
    "    sostituzioni=re.findall(r\"(?= [\\|]{2} )\",linea)\n",
    "    for j in range(0,len(sostituzioni)):\n",
    "        linea=re.sub(r\" \\|\\| \",\" or \",linea)\n",
    "    \n",
    "    print(linea)"
   ]
  },
  {
   "cell_type": "markdown",
   "id": "080737fd-2c7e-44e5-adc9-2ba8fa8d4002",
   "metadata": {},
   "source": [
    "## Validating phone numbers"
   ]
  },
  {
   "cell_type": "code",
   "execution_count": null,
   "id": "e59ed441-8cc3-40d0-8e45-42a58b5ac657",
   "metadata": {},
   "outputs": [],
   "source": [
    "import re\n",
    "N=int(input())\n",
    "for i in range(N):\n",
    "    stringa=input()\n",
    "    b=re.match(r\"[789]{1}[\\d]{9}\",stringa)\n",
    "    if bool(b)==True and len(stringa)==10:\n",
    "        print(\"YES\")\n",
    "    else:\n",
    "        print(\"NO\")"
   ]
  },
  {
   "cell_type": "markdown",
   "id": "7fe2efcd-24a7-481e-81e1-7fa2aa3c44f2",
   "metadata": {},
   "source": [
    "## Validating and Parsing Email Addresses"
   ]
  },
  {
   "cell_type": "code",
   "execution_count": null,
   "id": "0c6b1c91-1036-459a-a5d6-77c582f8ff98",
   "metadata": {},
   "outputs": [],
   "source": [
    "import re\n",
    "n=int(input())\n",
    "for i in range(n):\n",
    "    stringa=input().split()\n",
    "\n",
    "    nome=stringa[0]\n",
    "    email=stringa[1]\n",
    "\n",
    "    bb=re.match(r\"<[a-zA-Z]{1}[a-zA-Z0-9-._]+@[a-zA-Z]+\\.[a-zA-Z]{1,3}>\",email)\n",
    " \n",
    "    if bool(bb)==True:\n",
    "        print(nome,email)"
   ]
  },
  {
   "cell_type": "markdown",
   "id": "fa74813a-d9c7-440f-bcd7-e8287a5c78fe",
   "metadata": {},
   "source": [
    "## Hex Color Code"
   ]
  },
  {
   "cell_type": "code",
   "execution_count": null,
   "id": "a184bad0-f104-4b56-b6c2-9862aef5dca7",
   "metadata": {},
   "outputs": [],
   "source": [
    "import re\n",
    "N=int(input())\n",
    "\n",
    "gate=False\n",
    "for i in range(N):\n",
    "    stringa=input()\n",
    "    \n",
    "    openn=re.match(r\".*[{].*\",stringa)\n",
    "    #print(openn)\n",
    "    if bool(openn)==True:\n",
    "        gate=True\n",
    "        continue\n",
    "        \n",
    "        \n",
    "    closed=re.match(r\".*[}].*\",stringa)\n",
    "    if bool(closed)==True:\n",
    "        gate=False\n",
    "        continue\n",
    "    \n",
    "    if gate==True:\n",
    "        colori=re.findall(r\"#[0-9A-Fa-f]{3,6}\",stringa)\n",
    "        if len(colori) >= 1:\n",
    "            print(\"\\n\".join(colori))                     "
   ]
  },
  {
   "cell_type": "markdown",
   "id": "aa1662c9-8a4b-4635-97ab-6fe3bf838fed",
   "metadata": {},
   "source": [
    "## Validating UID"
   ]
  },
  {
   "cell_type": "code",
   "execution_count": null,
   "id": "11c9d8f6-3106-48e2-b8a1-4885316fabb3",
   "metadata": {},
   "outputs": [],
   "source": [
    "import re \n",
    "def UID(uid):\n",
    "    \n",
    "    boool=re.match(r\"[a-zA-Z0-9]{10}\",uid)\n",
    "    if len(uid.strip())==10 and bool(boool)==True:\n",
    "        uppercase=re.findall(r\"[A-Z]\",uid)\n",
    "        if  len(uppercase) >= 2:\n",
    "            numeri=re.findall(r\"[0-9]\",uid)\n",
    "            if len(numeri) >= 3:\n",
    "                lista=[]\n",
    "                for i in range(0,len(uid)):\n",
    "                    if uid[i]  not in lista:\n",
    "                        lista.append(uid[i])\n",
    "                    else:\n",
    "                        return \"Invalid\"        \n",
    "                return \"Valid\" \n",
    "            else:\n",
    "                return \"Invalid\"              \n",
    "        else:\n",
    "            return \"Invalid\"\n",
    "    else:\n",
    "        return \"Invalid\"\n",
    "        \n",
    "T=int(input())\n",
    "for i in range(0,T):\n",
    "    uid=input()\n",
    "    print(UID(uid))      "
   ]
  },
  {
   "cell_type": "markdown",
   "id": "873c26a3-55ef-4b0e-b481-33b75da6220c",
   "metadata": {},
   "source": [
    "## Validating Credit Card Numbers"
   ]
  },
  {
   "cell_type": "code",
   "execution_count": null,
   "id": "45958fe6-c818-4d67-a572-34735ebfd714",
   "metadata": {},
   "outputs": [],
   "source": [
    "import re\n",
    "def valida(card):\n",
    "    # It must start with a 4, 5 or 6.\n",
    "    test1=re.match(\"[456]\",card)\n",
    "    if bool(test1)==False:\n",
    "        return \"Invalid\"\n",
    "        \n",
    "    #It must NOT use any other separator like ' ' , '_', etc.\n",
    "    #It must only consist of digits (0-9).\n",
    "    controllo_caratteri=re.search(r\"[^0-9-]\",card)\n",
    "    if bool(controllo_caratteri)==True:\n",
    "        return \"Invalid\"\n",
    "        \n",
    "    #It must contain exactly 16 digits.\n",
    "    digits=re.findall(r\"[0-9]\",card)\n",
    "    if len(digits) != 16:\n",
    "        return \"Invalid\"\n",
    "    \n",
    "\n",
    "    #Style: 5122-2368-7954-3214\n",
    "    gruppi=re.search(r\"([0-9]{4})-([0-9]{4})-([0-9]{4})-([0-9]{4})\",card)\n",
    "    if bool(gruppi)==True:\n",
    "        carta=re.sub(r\"-\",\"\",gruppi[0])\n",
    "        c=0\n",
    "        for i in range(0,len(carta)-1):\n",
    "           \n",
    "            if carta[i] == carta[i+1]:\n",
    "                c += 1 \n",
    "                if c > 2:\n",
    "                    return \"Invalid\"\n",
    "            \n",
    "            else:\n",
    "                c=0\n",
    "            \n",
    "        return \"Valid\"\n",
    "        \n",
    "      \n",
    "    gruppi=re.search(r\"([0-9]{4})([0-9]{4})([0-9]{4})([0-9]{4})\",card)\n",
    "    if bool(gruppi)==True:\n",
    "        c=0\n",
    "        for i in range(0,len(gruppi[0])-1):\n",
    "            if gruppi[0][i] ==gruppi[0][i+1]:\n",
    "                c += 1 \n",
    "                if c > 2:\n",
    "                    return \"Invalid\"\n",
    "            \n",
    "            else:\n",
    "                c=0\n",
    "        return \"Valid\"\n",
    "    return \"Invalid\"\n",
    "    \n",
    "N=int(input())\n",
    "for i in range(0,N):\n",
    "    print(valida(input()))"
   ]
  },
  {
   "cell_type": "markdown",
   "id": "bea41c55-6ac6-4f83-b877-826e7eb2296d",
   "metadata": {},
   "source": [
    "## Validating Roman Numerals"
   ]
  },
  {
   "cell_type": "code",
   "execution_count": null,
   "id": "53525ba3-b98b-438b-9c0a-7504b1e2ee3b",
   "metadata": {},
   "outputs": [],
   "source": [
    "import re\n",
    "import sys\n",
    "\n",
    "numero=input()\n",
    "a=re.match(r\"(M{,3})?(CD|CM|C{1,3}|D[C]{,3})?(XL|XC|X{1,3}|L[X]{,3})?(IV|IX|I{1,3}|V[I]{,3})?\",numero)\n",
    "if len(numero)== len(a[0]) and bool(a)==True:\n",
    "    print(True)\n",
    "else:\n",
    "    print(False)\n",
    "\n",
    " \n",
    "sys.exit(0)#I using \"sys.exit(0)\" from sys in order to ignore mandatory lines of code by Hackerrank and so, writing my very own program.\n",
    "#With \"sys.exit(0)\" i  will ignored those lines of code made mandatory by Hackerrank\n",
    "print(str(bool(re.match(regex_pattern, input())))) #will be ignored."
   ]
  },
  {
   "cell_type": "markdown",
   "id": "b83e698d-5d76-4d62-8489-54de98881c71",
   "metadata": {},
   "source": [
    "## Validating Postal Codes"
   ]
  },
  {
   "cell_type": "code",
   "execution_count": null,
   "id": "731c6853-6d02-4d5f-a64a-fb6f02141ebe",
   "metadata": {},
   "outputs": [],
   "source": [
    "import re\n",
    "regex_integer_in_range = r\"^[0-9]{6}$\"\n",
    "regex_alternating_repetitive_digit_pair = r\"([0-9])(?=[0-9]\\1)\"\n",
    "\n",
    "P = input()\n",
    "\n",
    "print (bool(re.match(regex_integer_in_range, P)) \n",
    "and len(re.findall(regex_alternating_repetitive_digit_pair, P)) < 2)"
   ]
  },
  {
   "cell_type": "markdown",
   "id": "b27f2de6-8bde-44f9-ae94-88d821790db0",
   "metadata": {},
   "source": [
    "## HTML Parser - Part 1"
   ]
  },
  {
   "cell_type": "code",
   "execution_count": null,
   "id": "cf8a8dc6-c90a-42fe-8890-8dcf6029aff6",
   "metadata": {},
   "outputs": [],
   "source": [
    "from html.parser import HTMLParser\n",
    "\n",
    "class MyHTMLParser(HTMLParser):\n",
    "    #def handle_comment(self, data):\n",
    "     #   print(\"Comment  :\", data)\n",
    "    def handle_starttag(self, tag, attrs):\n",
    "        print(\"Start :\", tag)\n",
    "        for attr in attrs:\n",
    "            a=list(map(str,attr))\n",
    "            print(\"->\",a[0],\">\",a[1])\n",
    "            \n",
    "            \n",
    "    def handle_endtag(self, tag):\n",
    "        print(\"End   :\", tag)\n",
    "    def handle_startendtag(self, tag, attrs):\n",
    "        print(\"Empty :\", tag)\n",
    "        for attr in attrs:\n",
    "            a=list(map(str,attr))\n",
    "            print(\"->\",a[0],\">\",a[1])\n",
    "N=int(input())\n",
    "parser = MyHTMLParser()\n",
    "\n",
    "for i in range(N):\n",
    "    S=input()\n",
    "    parser.feed(S)"
   ]
  },
  {
   "cell_type": "markdown",
   "id": "a92602ec-a401-4dd2-b136-f025396aca1b",
   "metadata": {},
   "source": [
    "## HTML Parser - Part 2"
   ]
  },
  {
   "cell_type": "code",
   "execution_count": null,
   "id": "efd1c254-0ac5-4e7e-8642-5b28eedd6a2f",
   "metadata": {},
   "outputs": [],
   "source": [
    "from html.parser import HTMLParser\n",
    "import re\n",
    "class MyHTMLParser(HTMLParser):\n",
    "    def handle_comment(self, data):\n",
    "        if bool(re.search(r\"\\n\",data))==True:\n",
    "            print(\">>> Multi-line Comment\")\n",
    "            print(data)\n",
    "        else:\n",
    "           print(\">>> Single-line Comment\")\n",
    "           print(data)\n",
    "\n",
    "    def handle_data(self, data):\n",
    "        if data != '\\n':\n",
    "            print(\">>> Data\")\n",
    "            print(data)\n",
    "N=int(input())\n",
    "parser = MyHTMLParser()\n",
    "\n",
    "com=False\n",
    "for i in range(N):\n",
    "    S=input().strip()\n",
    "\n",
    "    if bool(re.search(r\"<\\!--\",S))==True or com==True:\n",
    "        com=True\n",
    " \n",
    "        if bool(re.search(r\"-->\",S))==True:\n",
    "            com=False\n",
    "        elif bool(re.search(r\"<\\!--[.]*-->\",S))==False:\n",
    "            S += \"\\n\"\n",
    "             \n",
    "    parser.feed(S)"
   ]
  },
  {
   "cell_type": "markdown",
   "id": "8de6a7e2-bd06-4b7a-9221-7fbd2e24fa87",
   "metadata": {},
   "source": [
    "## Detect HTML Tags, Attributes and Attribute Values"
   ]
  },
  {
   "cell_type": "code",
   "execution_count": null,
   "id": "c9bc2d72-f169-4ab1-a6fb-5a056abc217c",
   "metadata": {},
   "outputs": [],
   "source": [
    "from html.parser import HTMLParser\n",
    "\n",
    "class MyHTMLParser(HTMLParser):\n",
    "    def handle_starttag(self, tag, attrs):\n",
    "        print(tag)\n",
    "        for attr in attrs:\n",
    "            a=list(map(str,attr))\n",
    "            print(\"->\",a[0],\">\",a[1])\n",
    "            \n",
    "            \n",
    "    def handle_startendtag(self, tag, attrs):\n",
    "        print(tag)\n",
    "        for attr in attrs:\n",
    "            a=list(map(str,attr))\n",
    "            print(\"->\",a[0],\">\",a[1])\n",
    "N=int(input())\n",
    "parser = MyHTMLParser()\n",
    "\n",
    "for i in range(N):\n",
    "    S=input()\n",
    "    parser.feed(S)"
   ]
  },
  {
   "cell_type": "markdown",
   "id": "da2a85ba-5a3e-48c7-8e9f-1792b3cf1ce1",
   "metadata": {},
   "source": [
    "## Matrix Script"
   ]
  },
  {
   "cell_type": "code",
   "execution_count": null,
   "id": "d25279ce-65b9-4b48-8be9-8329befb54de",
   "metadata": {},
   "outputs": [],
   "source": [
    "import re\n",
    "\n",
    "inn=list(map(int,input().split()))\n",
    "righe=inn[0]\n",
    "colonne=inn[1]\n",
    "\n",
    "matrice=[]\n",
    "for i in range(0,righe):\n",
    "    riga=[]\n",
    "    contenuto=str(input())\n",
    "\n",
    "    for j in range(0,colonne):\n",
    "        riga.append(contenuto[j])\n",
    "    matrice.append(riga)\n",
    "\n",
    "    \n",
    "testo=\"\"\n",
    "for j in range(colonne):\n",
    "    for i in range(righe):\n",
    "        testo += str(matrice[i][j])\n",
    "\n",
    "gruppi=re.finditer(r\"([a-zA-Z0-9])([^a-zA-Z0-9]+)([a-zA-Z0-9])\",testo)\n",
    "for i in gruppi:\n",
    "   # print(i.group(2))\n",
    "    testo=testo.replace(i.group(2),\" \",1)\n",
    "print(testo)"
   ]
  },
  {
   "cell_type": "markdown",
   "id": "55143300-3370-48bd-8694-29db9d587f6a",
   "metadata": {},
   "source": [
    "# Numpy"
   ]
  },
  {
   "cell_type": "markdown",
   "id": "b5a0d22c-3f93-428c-b9d8-8b74549c8efb",
   "metadata": {},
   "source": [
    "## Arrays"
   ]
  },
  {
   "cell_type": "code",
   "execution_count": null,
   "id": "9f4bab7b-1d58-4ee3-8194-63e97501d522",
   "metadata": {},
   "outputs": [],
   "source": [
    "import numpy\n",
    "def arrays(arr):\n",
    "    arr=numpy.array(arr,dtype=\"f\")\n",
    "    arr=numpy.flip(arr,0)\n",
    "    \n",
    "    \n",
    "    return arr\n",
    "\n",
    "arr = input().strip().split(' ')\n",
    "result = arrays(arr)\n",
    "print(result)"
   ]
  },
  {
   "cell_type": "markdown",
   "id": "72dcf5ca-ead0-465b-a809-ecb93f52f2c6",
   "metadata": {},
   "source": [
    "## Shape and Reshape"
   ]
  },
  {
   "cell_type": "code",
   "execution_count": null,
   "id": "5f55fa2a-2539-4893-b147-d36b777299ce",
   "metadata": {},
   "outputs": [],
   "source": [
    "import numpy as np\n",
    "\n",
    "array=np.array(list(map(int,input().split())))\n",
    "array.shape = (3, 3)\n",
    "print(array)"
   ]
  },
  {
   "cell_type": "markdown",
   "id": "a2051c11-9143-4a7e-96f6-4381d04ff4a6",
   "metadata": {},
   "source": [
    "## Concatenate"
   ]
  },
  {
   "cell_type": "code",
   "execution_count": null,
   "id": "4c5104bb-c2f3-4029-bde0-961d681ffdd2",
   "metadata": {},
   "outputs": [],
   "source": [
    "import numpy as np\n",
    "\n",
    "inn=list(map(int,input().split()))\n",
    "N=inn[0]\n",
    "M=inn[1]\n",
    "P=inn[2]\n",
    "\n",
    "n=[]\n",
    "for i in range(0,N):\n",
    "   riga=list(map(int,input().split()))\n",
    "   n.append(riga)\n",
    "m=[]\n",
    "for i in range(0,M):\n",
    "    riga=list(map(int,input().split()))\n",
    "    m.append(riga)\n",
    "\n",
    "n=np.array(n)\n",
    "m=np.array(m)\n",
    "\n",
    "tot=np.concatenate((n,m),axis=0)\n",
    "print(tot)"
   ]
  },
  {
   "cell_type": "markdown",
   "id": "ef7353a6-1a48-47bf-a086-28be120f5c62",
   "metadata": {},
   "source": [
    "## Zeros and Ones"
   ]
  },
  {
   "cell_type": "code",
   "execution_count": null,
   "id": "bc6ad878-418d-4838-b6bf-7c415c5265a3",
   "metadata": {},
   "outputs": [],
   "source": [
    "import numpy as np\n",
    "\n",
    "inn=tuple(map(int,input().split()))\n",
    "\n",
    "print(np.zeros(inn, dtype = \"i\"))\n",
    "print(np.ones(inn, dtype = \"i\"))"
   ]
  },
  {
   "cell_type": "markdown",
   "id": "37039b7b-8c11-4da7-a89b-8ee8f90f7b6d",
   "metadata": {},
   "source": [
    "## Transpose and Flatten"
   ]
  },
  {
   "cell_type": "code",
   "execution_count": null,
   "id": "7afa546e-4a2e-443b-b42b-cff1df6f48c2",
   "metadata": {},
   "outputs": [],
   "source": [
    "import numpy as np\n",
    "\n",
    "inn=list(map(int,input().split()))\n",
    "righe=inn[0]\n",
    "\n",
    "matrice=[]\n",
    "for i in range(0,righe):\n",
    "    riga=list(map(int,input().split()))\n",
    "    matrice.append(riga)\n",
    "\n",
    "matrice=np.array(matrice)\n",
    "trasposta=np.transpose(matrice)\n",
    "print(trasposta)\n",
    "print(matrice.flatten())"
   ]
  },
  {
   "cell_type": "markdown",
   "id": "5596960d-6256-4c8e-8c22-bfa51eb40c9c",
   "metadata": {},
   "source": [
    "## Eye and Identity"
   ]
  },
  {
   "cell_type": "code",
   "execution_count": null,
   "id": "43581e89-d668-46e0-aa0d-3b9b457aec94",
   "metadata": {},
   "outputs": [],
   "source": [
    "import numpy\n",
    "numpy.set_printoptions(legacy=\"1.13\")\n",
    "\n",
    "\n",
    "inn=list(map(int,input().split()))\n",
    "righe=inn[0]\n",
    "colonne=inn[1]\n",
    "print(numpy.eye(righe,colonne))"
   ]
  },
  {
   "cell_type": "markdown",
   "id": "4f2042d1-65bf-404b-9482-e899ea616716",
   "metadata": {},
   "source": [
    "## Array Mathematics"
   ]
  },
  {
   "cell_type": "code",
   "execution_count": null,
   "id": "d8296fdb-761b-40e9-86a3-ae75ae995c23",
   "metadata": {},
   "outputs": [],
   "source": [
    "import numpy as  np\n",
    "\n",
    "NM=list(map(int,input().split()))\n",
    "N=NM[0]\n",
    "M=NM[1]\n",
    "\n",
    "A=[]\n",
    "for i in range(0,N):\n",
    "    riga=list(map(int,input().split()))\n",
    "    A.append(riga)\n",
    "\n",
    "A=np.array(A)\n",
    "    \n",
    "B=[]\n",
    "for i in range(0,N):\n",
    "    riga=list(map(int,input().split()))\n",
    "    B.append(riga)\n",
    "B=np.array(B)\n",
    "\n",
    "#ADD\n",
    "print(np.add(A,B))\n",
    "\n",
    "#Subtract\n",
    "print(np.subtract(A,B))\n",
    "\n",
    "#Multiply\n",
    "print(np.multiply(A,B))\n",
    "\n",
    "#Integer division\n",
    "print(np.floor_divide(A,B))\n",
    "\n",
    "#MOD\n",
    "print(np.mod(A,B))\n",
    "\n",
    "#Power\n",
    "print(np.power(A,B))"
   ]
  },
  {
   "cell_type": "markdown",
   "id": "76be4f36-a2a4-47e1-83ed-4a78328680ff",
   "metadata": {},
   "source": [
    "## Floor, Ceil and Rint "
   ]
  },
  {
   "cell_type": "code",
   "execution_count": null,
   "id": "972f49c0-9145-463b-8fed-c57d9bc8d41a",
   "metadata": {},
   "outputs": [],
   "source": [
    "import numpy as np\n",
    "np.set_printoptions(legacy=\"1.13\")\n",
    "\n",
    "arr=np.array(list(map(float,input().split())))\n",
    "print(np.floor(arr))\n",
    "print(np.ceil(arr))\n",
    "print(np.rint(arr))"
   ]
  },
  {
   "cell_type": "markdown",
   "id": "6dac3b9c-e90e-4f2c-bce5-25f71ee3e793",
   "metadata": {},
   "source": [
    "## Sum and Prod"
   ]
  },
  {
   "cell_type": "code",
   "execution_count": null,
   "id": "65c922e8-5c47-463a-9c95-24c738e556f9",
   "metadata": {},
   "outputs": [],
   "source": [
    "import numpy as np\n",
    "\n",
    "NM=list(map(int,input().split()))\n",
    "N=NM[0]\n",
    "M=NM[1]\n",
    "\n",
    "A=[]\n",
    "for i in range(0,N):\n",
    "    riga=list(map(int,input().split()))\n",
    "    A.append(riga)\n",
    "\n",
    "A=np.array(A)\n",
    "\n",
    "somma=np.sum(A,axis=0)\n",
    "prodotto=np.prod(somma)\n",
    "print(prodotto)"
   ]
  },
  {
   "cell_type": "markdown",
   "id": "1b2acc21-261c-432c-aefc-e63822711aba",
   "metadata": {},
   "source": [
    "## Min and Max"
   ]
  },
  {
   "cell_type": "code",
   "execution_count": null,
   "id": "70ad72d2-721d-4f63-800b-912a55157d6a",
   "metadata": {},
   "outputs": [],
   "source": [
    "import numpy as np\n",
    "\n",
    "\n",
    "NM=list(map(int,input().split()))\n",
    "N=NM[0]\n",
    "M=NM[1]\n",
    "\n",
    "A=[]\n",
    "for i in range(0,N):\n",
    "    riga=list(map(int,input().split()))\n",
    "    A.append(riga)\n",
    "\n",
    "A=np.array(A)\n",
    "\n",
    "minimi=np.min(A,axis=1)\n",
    "print(np.max(minimi))"
   ]
  },
  {
   "cell_type": "markdown",
   "id": "9c335a73-d52c-441b-9fca-f345785a77e6",
   "metadata": {},
   "source": [
    "## Mean, Var, and Std"
   ]
  },
  {
   "cell_type": "code",
   "execution_count": null,
   "id": "ce548922-fd99-40b0-a8aa-dd7753cd51b6",
   "metadata": {},
   "outputs": [],
   "source": [
    "import numpy as np\n",
    "#np.set_printoptions(legacy=\"1.13\")\n",
    "\n",
    "\n",
    "NM=list(map(int,input().split()))\n",
    "N=NM[0]\n",
    "M=NM[1]\n",
    "\n",
    "A=[]\n",
    "for i in range(0,N):\n",
    "    riga=list(map(int,input().split()))\n",
    "    A.append(riga)\n",
    "\n",
    "array=np.array(A)\n",
    "print(np.mean(array,axis=1))\n",
    "print(np.var(array,axis=0))\n",
    "print(round(np.std(array,axis=None),11))"
   ]
  },
  {
   "cell_type": "markdown",
   "id": "017a0e96-517a-45b2-a952-73d7a43b66be",
   "metadata": {},
   "source": [
    "## Dot and Cross"
   ]
  },
  {
   "cell_type": "code",
   "execution_count": null,
   "id": "c6becab4-2fc0-48e0-8a2f-67c9df6f06eb",
   "metadata": {},
   "outputs": [],
   "source": [
    "import numpy as np\n",
    "#np.set_printoptions(legacy=\"1.13\")\n",
    "\n",
    "N=int(input())\n",
    "\n",
    "A=[]\n",
    "for i in range(0,N):\n",
    "    riga=list(map(int,input().split()))\n",
    "    A.append(riga)\n",
    "\n",
    "A=np.array(A)\n",
    "\n",
    "B=[]\n",
    "for i in range(0,N):\n",
    "    riga=list(map(int,input().split()))\n",
    "    B.append(riga)\n",
    "B=np.array(B)\n",
    "\n",
    "\n",
    "print(np.matmul(A,B))"
   ]
  },
  {
   "cell_type": "markdown",
   "id": "28b3fcc5-9703-4627-b314-61e287456adc",
   "metadata": {},
   "source": [
    "## Inner and Outer"
   ]
  },
  {
   "cell_type": "code",
   "execution_count": null,
   "id": "cce1aad1-64e0-42a2-9d5c-f175d0e99eb0",
   "metadata": {},
   "outputs": [],
   "source": [
    "import numpy as np\n",
    "\n",
    "A=np.array(list(map(int,input().split())))\n",
    "B=np.array(list(map(int,input().split())))\n",
    "\n",
    "print(np.inner(A,B))\n",
    "print(np.outer(A,B))"
   ]
  },
  {
   "cell_type": "markdown",
   "id": "40ac4839-7b11-4904-95e0-209699fe6a32",
   "metadata": {},
   "source": [
    "## Polynomials"
   ]
  },
  {
   "cell_type": "code",
   "execution_count": null,
   "id": "47fbf3df-da4f-4ab8-addc-4028e7317d2c",
   "metadata": {},
   "outputs": [],
   "source": [
    "import numpy as np\n",
    "\n",
    "\n",
    "pol=np.array(list(map(float,input().split())))\n",
    "\n",
    "\n",
    "x=int(input())\n",
    "\n",
    "print(np.polyval(pol, x))"
   ]
  },
  {
   "cell_type": "markdown",
   "id": "3cb9208e-1ee8-4bd1-a89d-1ee71d071f2a",
   "metadata": {},
   "source": [
    "## Linear Algebra"
   ]
  },
  {
   "cell_type": "code",
   "execution_count": null,
   "id": "7dfd4c11-4974-41e1-95fb-f256a7633135",
   "metadata": {},
   "outputs": [],
   "source": [
    "import numpy as np\n",
    "N=int(input())\n",
    "\n",
    "A=[]\n",
    "for i in range(0,N):\n",
    "    riga=list(map(float,input().split()))\n",
    "    A.append(riga)\n",
    "\n",
    "A=np.array(A)\n",
    "print(round(np.linalg.det(A),2))"
   ]
  },
  {
   "cell_type": "markdown",
   "id": "eea63534-a57d-47d1-bd57-c18ecd5809ad",
   "metadata": {},
   "source": [
    "# Closures and Decorators"
   ]
  },
  {
   "cell_type": "markdown",
   "id": "fc420d54-8ae5-463d-aa06-b7013ba55bb0",
   "metadata": {},
   "source": [
    "## Standardize Mobile Number Using Decorators"
   ]
  },
  {
   "cell_type": "code",
   "execution_count": null,
   "id": "dfeda899-4be0-4263-a9c1-bcadc54cc573",
   "metadata": {},
   "outputs": [],
   "source": [
    "import sys\n",
    "\n",
    "ordine=[]\n",
    "lista = [input() for _ in range(int(input()))]\n",
    "\n",
    "for i in range(0,len(lista)):\n",
    "    a=lista[i]\n",
    "    l=len(a)\n",
    "    numero=int(a[l-10:])\n",
    "    ordine.append(numero)\n",
    "\n",
    "ordine.sort()\n",
    "\n",
    "numeri=[ \"+91 \"+str(i)[0:5]+\" \"+str(i)[5:] for i in ordine]\n",
    "print(\"\\n\".join(numeri))\n",
    "\n",
    "        \n",
    "sys.exit(0) #I using \"sys.exit(0)\" from sys in order to ignore mandatory lines of code by Hackerrank and so, writing my very own program.\n",
    "#With \"sys.exit(0)\" i  will ignored those lines of code made mandatory by Hackerrank"
   ]
  },
  {
   "cell_type": "markdown",
   "id": "aca38818-499b-4d7f-bbbf-67e554483dce",
   "metadata": {},
   "source": [
    "## Decorators 2 - Name Directory"
   ]
  },
  {
   "cell_type": "code",
   "execution_count": null,
   "id": "42886d3b-c34d-4251-9a79-f52bfc48aa6e",
   "metadata": {},
   "outputs": [],
   "source": [
    "import operator\n",
    "import sys\n",
    "\n",
    "people = [input().split() for i in range(int(input()))]\n",
    "\n",
    "lista=[]\n",
    "for i in range(0,len(people)):\n",
    "    listino=[]\n",
    "    #Sesso\n",
    "    listino.append(int(people[i][2]))\n",
    "    \n",
    "    if  people[i][3]==\"M\":\n",
    "        nome=\"Mr. \"+people[i][0]+\" \"+people[i][1]\n",
    "        listino.append(nome)\n",
    "      \n",
    "    else:\n",
    "        nome=\"Ms. \"+people[i][0]+\" \"+people[i][1]\n",
    "        listino.append(nome)\n",
    "    lista.append(listino)\n",
    "    #Ordinare   \n",
    "lista.sort(key=lambda s: s[0])\n",
    "for i in range(0,len(lista)):\n",
    "    print(lista[i][1])\n",
    "\n",
    "sys.exit(0)    #I using \"sys.exit(0)\" from sys in order to ignore mandatory lines of code by Hackerrank and so, writing my very own program.\n",
    "@person_lister #With \"sys.exit(0)\" i  will ignored those lines of code made mandatory by Hackerrank\n",
    "def name_format(person): #will be ignored\n",
    "    return (\"Mr. \" if person[3] == \"M\" else \"Ms. \") + person[0] + \" \" + person[1]#will be ignored\n",
    "\n",
    "if __name__ == '__main__':#will be ignored\n",
    "    people = [input().split() for i in range(int(input()))]#will be ignored\n",
    "    print(*name_format(people), sep='\\n')#will be ignored"
   ]
  },
  {
   "cell_type": "code",
   "execution_count": null,
   "id": "674e6d00-f9fc-4d36-b970-6f83262b40d3",
   "metadata": {},
   "outputs": [],
   "source": []
  },
  {
   "cell_type": "code",
   "execution_count": null,
   "id": "9f3ba561-84a1-4ae0-9364-13433fd80466",
   "metadata": {},
   "outputs": [],
   "source": []
  }
 ],
 "metadata": {
  "kernelspec": {
   "display_name": "Python 3 (ipykernel)",
   "language": "python",
   "name": "python3"
  },
  "language_info": {
   "codemirror_mode": {
    "name": "ipython",
    "version": 3
   },
   "file_extension": ".py",
   "mimetype": "text/x-python",
   "name": "python",
   "nbconvert_exporter": "python",
   "pygments_lexer": "ipython3",
   "version": "3.10.4"
  }
 },
 "nbformat": 4,
 "nbformat_minor": 5
}

{
 "cells": [
  {
   "cell_type": "markdown",
   "id": "5a27350e-d8ba-4a59-89b1-70c80884606f",
   "metadata": {},
   "source": [
    "# XML"
   ]
  },
  {
   "cell_type": "markdown",
   "id": "b105875c-5ec7-4d25-9a52-e83b2551f833",
   "metadata": {},
   "source": [
    "## XML 1 - Find the Score"
   ]
  },
  {
   "cell_type": "code",
   "execution_count": null,
   "id": "29d1bcdc-8d11-4e57-a62b-06db7f600f53",
   "metadata": {},
   "outputs": [],
   "source": [
    "import sys\n",
    "import xml.etree.ElementTree as etree\n",
    "\n",
    "def get_attr_number(node):\n",
    "    att=0\n",
    "\n",
    "    for i in node.iter(): #prende tutte le tag come se non fossero annidate\n",
    "           #print(i.attrib)\n",
    "           att += len(i.attrib)\n",
    "    return att\n",
    "    \n",
    "    \n",
    "    \n",
    "    \n",
    "    \n",
    "    \n",
    "if __name__ == '__main__':\n",
    "    sys.stdin.readline()\n",
    "    xml = sys.stdin.read()\n",
    "    tree = etree.ElementTree(etree.fromstring(xml))\n",
    "    root = tree.getroot()\n",
    "    print(get_attr_number(root))"
   ]
  },
  {
   "cell_type": "markdown",
   "id": "59824480-a529-46bc-82ed-194c659ac7b0",
   "metadata": {},
   "source": [
    "## XML2 - Find the Maximum Depth"
   ]
  },
  {
   "cell_type": "code",
   "execution_count": null,
   "id": "850ab403-0363-4a68-898d-c54f5c24e7f8",
   "metadata": {},
   "outputs": [],
   "source": [
    "import xml.etree.ElementTree as etree\n",
    "global levelll\n",
    "maxdepth = 0\n",
    "levelll=[]\n",
    "def depth(elem, level):\n",
    "    if level==-1:\n",
    "        level += 1\n",
    "    global maxdepth \n",
    "    levelll.append(level)\n",
    "    maxdepth=max(levelll)\n",
    "    for i in elem:\n",
    "        depth(i,level +1 )\n",
    "    \n",
    "\n",
    "\n",
    "\n",
    "    \n",
    "    \n",
    "    \n",
    "\n",
    "if __name__ == '__main__':\n",
    "    n = int(input())\n",
    "    xml = \"\"\n",
    "    for i in range(n):\n",
    "        xml =  xml + input() + \"\\n\"\n",
    "    tree = etree.ElementTree(etree.fromstring(xml))\n",
    "    depth(tree.getroot(), -1)\n",
    "    print(maxdepth)"
   ]
  }
 ],
 "metadata": {
  "kernelspec": {
   "display_name": "Python 3 (ipykernel)",
   "language": "python",
   "name": "python3"
  },
  "language_info": {
   "codemirror_mode": {
    "name": "ipython",
    "version": 3
   },
   "file_extension": ".py",
   "mimetype": "text/x-python",
   "name": "python",
   "nbconvert_exporter": "python",
   "pygments_lexer": "ipython3",
   "version": "3.10.4"
  }
 },
 "nbformat": 4,
 "nbformat_minor": 5
}
{
 "cells": [
  {
   "cell_type": "markdown",
   "id": "438e40b4-527f-4604-8a19-29232aee50ea",
   "metadata": {},
   "source": [
    "# Problem 2"
   ]
  },
  {
   "cell_type": "markdown",
   "id": "e09a9a6f-7a43-4fdb-bb71-bbfa3045a4fa",
   "metadata": {},
   "source": [
    "## Birthday Cake Candles"
   ]
  },
  {
   "cell_type": "code",
   "execution_count": null,
   "id": "216d3d73-d85d-429f-b551-5530965d736a",
   "metadata": {},
   "outputs": [],
   "source": [
    "#!/bin/python3\n",
    "\n",
    "import math\n",
    "import os\n",
    "import random\n",
    "import re\n",
    "import sys\n",
    "from collections import Counter\n",
    "#\n",
    "# Complete the 'birthdayCakeCandles' function below.\n",
    "#\n",
    "# The function is expected to return an INTEGER.\n",
    "# The function accepts INTEGER_ARRAY candles as parameter.\n",
    "#\n",
    "\n",
    "def birthdayCakeCandles(candles):\n",
    "    # Write your code here\n",
    "    C=Counter()\n",
    "    for i in candles:\n",
    "        C[i] += 1\n",
    "    return C.most_common(1)[0][1]\n",
    "    \n",
    "    \n",
    "    \n",
    "    \n",
    "    \n",
    "    \n",
    "if __name__ == '__main__':\n",
    "    fptr = open(os.environ['OUTPUT_PATH'], 'w')\n",
    "\n",
    "    candles_count = int(input().strip())\n",
    "\n",
    "    candles = list(map(int, input().rstrip().split()))\n",
    "\n",
    "    result = birthdayCakeCandles(candles)\n",
    "    print(result)\n",
    "    fptr.write(str(result) + '\\n')\n",
    "\n",
    "    fptr.close()\n"
   ]
  },
  {
   "cell_type": "markdown",
   "id": "ba282d2d-a6e2-4300-bea5-364ca6d6b2b7",
   "metadata": {},
   "source": [
    "## kangaroo"
   ]
  },
  {
   "cell_type": "code",
   "execution_count": null,
   "id": "f22ccbe4-bd97-49ab-a3ff-4289fbac86a2",
   "metadata": {},
   "outputs": [],
   "source": [
    "import math\n",
    "import os\n",
    "import random\n",
    "import re\n",
    "import sys\n",
    "\n",
    "\n",
    "def kangaroo(x1, v1, x2, v2):\n",
    "    if x1 < x2 and v1 < v2:\n",
    "        return \"NO\"\n",
    "    #calcolo mcm\n",
    "    elif x1 < x2 and v1==v2:\n",
    "        return \"NO\"\n",
    "    \n",
    "    t=(x2-x1)/(v1-v2)\n",
    "\n",
    "    \n",
    "    if t.is_integer()==False:\n",
    "        return \"NO\"\n",
    "    elif t >= 0:\n",
    "        return \"YES\" \n",
    "if __name__ == '__main__':\n",
    "    fptr = open(os.environ['OUTPUT_PATH'], 'w')\n",
    "\n",
    "    first_multiple_input = input().rstrip().split()\n",
    "\n",
    "    x1 = int(first_multiple_input[0])\n",
    "\n",
    "    v1 = int(first_multiple_input[1])\n",
    "\n",
    "    x2 = int(first_multiple_input[2])\n",
    "\n",
    "    v2 = int(first_multiple_input[3])\n",
    "\n",
    "    result = kangaroo(x1, v1, x2, v2)\n",
    "\n",
    "    fptr.write(result + '\\n')\n",
    "\n",
    "    fptr.close()"
   ]
  },
  {
   "cell_type": "markdown",
   "id": "75710ddd-bd4e-42ce-ab94-7895c59bd18f",
   "metadata": {},
   "source": [
    "## Viral Advertising"
   ]
  },
  {
   "cell_type": "code",
   "execution_count": null,
   "id": "868cd0a5-abae-4d92-8267-24e413c0cdf3",
   "metadata": {},
   "outputs": [],
   "source": [
    "#!/bin/python3\n",
    "\n",
    "import math\n",
    "import os\n",
    "import random\n",
    "import re\n",
    "import sys\n",
    "\n",
    "def viralAdvertising(n):\n",
    "    cumulative=0\n",
    "    persone=5\n",
    "\n",
    "    for i in range(0,n):\n",
    "        like=persone//2\n",
    "        persone= like * 3\n",
    "        cumulative += like\n",
    "    return cumulative\n",
    "        \n",
    "        \n",
    "\n",
    "        \n",
    "    \n",
    "    \n",
    "if __name__ == '__main__':\n",
    "    fptr = open(os.environ['OUTPUT_PATH'], 'w')\n",
    "\n",
    "    n = int(input().strip())\n",
    "\n",
    "    result = viralAdvertising(n)\n",
    "\n",
    "    fptr.write(str(result) + '\\n')\n",
    "\n",
    "    fptr.close()\n"
   ]
  },
  {
   "cell_type": "markdown",
   "id": "2f99e60d-ac6b-49e8-9e3e-55908953ad4f",
   "metadata": {},
   "source": [
    "## Recursive Digit Sum"
   ]
  },
  {
   "cell_type": "code",
   "execution_count": null,
   "id": "ced9a8e3-b986-47ba-b350-42c79c073851",
   "metadata": {},
   "outputs": [],
   "source": [
    "#!/bin/python3\n",
    "\n",
    "import math\n",
    "import os\n",
    "import random\n",
    "import re\n",
    "import sys\n",
    "\n",
    "def superDigit(n, k):\n",
    "\n",
    "    if len(n)==1:\n",
    "        return n\n",
    "    \n",
    "    while len(n)!=1:\n",
    "        conta=0\n",
    "        for i in range(0,len(n)):\n",
    "            conta += int(n[i]) \n",
    "   \n",
    "        n = str(conta)\n",
    "    n=n* k \n",
    "    while len(n)!=1:\n",
    "        conta=0\n",
    "        for i in range(0,len(n)):\n",
    "            conta += int(n[i]) \n",
    "   \n",
    "        n = str(conta)\n",
    "    return conta \n",
    "            \n",
    "\n",
    "\n",
    "if __name__ == '__main__':\n",
    "    fptr = open(os.environ['OUTPUT_PATH'], 'w')\n",
    "\n",
    "    first_multiple_input = input().rstrip().split()\n",
    "\n",
    "    n = first_multiple_input[0]\n",
    "\n",
    "    k = int(first_multiple_input[1])\n",
    "\n",
    "    result = superDigit(n, k)\n",
    "\n",
    "    fptr.write(str(result) + '\\n')\n",
    "\n",
    "    fptr.close()\n"
   ]
  },
  {
   "cell_type": "markdown",
   "id": "737eadf4-77f9-4771-a734-80677057bab5",
   "metadata": {},
   "source": [
    "## "
   ]
  },
  {
   "cell_type": "markdown",
   "id": "d541c529-2639-4453-b7c2-3021a9cc02ab",
   "metadata": {},
   "source": [
    "## Insertion Sort - Part 1"
   ]
  },
  {
   "cell_type": "code",
   "execution_count": null,
   "id": "1aa02cfc-78a5-43c7-b998-a30f3a36ec77",
   "metadata": {},
   "outputs": [],
   "source": [
    "#!/bin/python3\n",
    "\n",
    "import math\n",
    "import os\n",
    "import random\n",
    "import re\n",
    "import sys\n",
    "\n",
    "\n",
    "\n",
    "def insertionSort1(n, arr):\n",
    "    last=arr[-1]\n",
    "    a=arr[:-1]\n",
    "    o=[]\n",
    "    for i in range(len(arr)-2,-1,-1):\n",
    "        \n",
    "        if last < arr[i]:\n",
    "            o.append(i)\n",
    "            p=list(map(str,a[:i]))\n",
    "            k=list(map(str,a[i:]))\n",
    "            bb=\" \".join(p)+\" \"+str(arr[i])+\" \"+\" \".join(k)\n",
    "            print(bb.strip())\n",
    "    \n",
    "    arr.pop()\n",
    "    arr.insert(o[-1],last)\n",
    "    arr=list(map(str,arr))\n",
    "    arr=\" \".join(arr)\n",
    "    print(arr)   \n",
    "   # print(o)         \n",
    "if __name__ == '__main__':\n",
    "    n = int(input().strip())\n",
    "\n",
    "    arr = list(map(int, input().rstrip().split()))\n",
    "\n",
    "    insertionSort1(n, arr)\n"
   ]
  },
  {
   "cell_type": "markdown",
   "id": "c1288a91-a82a-4503-bef1-641c58cf9df0",
   "metadata": {},
   "source": [
    "## Insertion Sort - Part 2"
   ]
  },
  {
   "cell_type": "code",
   "execution_count": null,
   "id": "c220cd65-fb0e-4feb-8a55-1aee31216161",
   "metadata": {},
   "outputs": [],
   "source": [
    "#!/bin/python3\n",
    "\n",
    "import math\n",
    "import os\n",
    "import random\n",
    "import re\n",
    "import sys\n",
    "\n",
    "\n",
    "\n",
    "def insertionSort2(n, arr):\n",
    "    c=1\n",
    "    while c < n:\n",
    "\n",
    "        elemento = arr[c]\n",
    "        i = c-1\n",
    "        while elemento < arr[i]  and i >=0  :\n",
    "                arr[i+1] = arr[i]\n",
    "                i -= 1\n",
    "\n",
    "        arr[i+1] = elemento\n",
    "        stampa=list(map(str,arr))\n",
    "        print(\" \".join(stampa))\n",
    "        c += 1\n",
    "            \n",
    "        \n",
    "  \n",
    "    \n",
    "if __name__ == '__main__':\n",
    "    n = int(input().strip())\n",
    "\n",
    "    arr = list(map(int, input().rstrip().split()))\n",
    "\n",
    "    insertionSort2(n, arr)"
   ]
  }
 ],
 "metadata": {
  "kernelspec": {
   "display_name": "Python 3 (ipykernel)",
   "language": "python",
   "name": "python3"
  },
  "language_info": {
   "codemirror_mode": {
    "name": "ipython",
    "version": 3
   },
   "file_extension": ".py",
   "mimetype": "text/x-python",
   "name": "python",
   "nbconvert_exporter": "python",
   "pygments_lexer": "ipython3",
   "version": "3.10.4"
  }
 },
 "nbformat": 4,
 "nbformat_minor": 5
}

